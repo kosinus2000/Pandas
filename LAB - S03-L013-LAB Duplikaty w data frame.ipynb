{
 "cells": [
  {
   "cell_type": "code",
   "id": "initial_id",
   "metadata": {
    "collapsed": true,
    "ExecuteTime": {
     "end_time": "2025-07-09T14:01:58.515555Z",
     "start_time": "2025-07-09T14:01:54.076603Z"
    }
   },
   "source": [
    "import pandas as pd\n",
    "import numpy as np\n",
    "surveys = pd.read_csv(\"C:\\\\Users\\\\huber_15ivafg\\\\Documents\\\\Pandas kurs materiały\\\\course-files\\\\StackOverflowDeveloperSurvey2018.csv\",\n",
    "usecols=['Country','Gender','OperatingSystem'],\n",
    "low_memory=False)\n",
    "surveys.head()"
   ],
   "outputs": [
    {
     "data": {
      "text/plain": [
       "          Country OperatingSystem Gender\n",
       "0           Kenya     Linux-based   Male\n",
       "1  United Kingdom     Linux-based   Male\n",
       "2   United States             NaN    NaN\n",
       "3   United States         Windows   Male\n",
       "4    South Africa         Windows   Male"
      ],
      "text/html": [
       "<div>\n",
       "<style scoped>\n",
       "    .dataframe tbody tr th:only-of-type {\n",
       "        vertical-align: middle;\n",
       "    }\n",
       "\n",
       "    .dataframe tbody tr th {\n",
       "        vertical-align: top;\n",
       "    }\n",
       "\n",
       "    .dataframe thead th {\n",
       "        text-align: right;\n",
       "    }\n",
       "</style>\n",
       "<table border=\"1\" class=\"dataframe\">\n",
       "  <thead>\n",
       "    <tr style=\"text-align: right;\">\n",
       "      <th></th>\n",
       "      <th>Country</th>\n",
       "      <th>OperatingSystem</th>\n",
       "      <th>Gender</th>\n",
       "    </tr>\n",
       "  </thead>\n",
       "  <tbody>\n",
       "    <tr>\n",
       "      <th>0</th>\n",
       "      <td>Kenya</td>\n",
       "      <td>Linux-based</td>\n",
       "      <td>Male</td>\n",
       "    </tr>\n",
       "    <tr>\n",
       "      <th>1</th>\n",
       "      <td>United Kingdom</td>\n",
       "      <td>Linux-based</td>\n",
       "      <td>Male</td>\n",
       "    </tr>\n",
       "    <tr>\n",
       "      <th>2</th>\n",
       "      <td>United States</td>\n",
       "      <td>NaN</td>\n",
       "      <td>NaN</td>\n",
       "    </tr>\n",
       "    <tr>\n",
       "      <th>3</th>\n",
       "      <td>United States</td>\n",
       "      <td>Windows</td>\n",
       "      <td>Male</td>\n",
       "    </tr>\n",
       "    <tr>\n",
       "      <th>4</th>\n",
       "      <td>South Africa</td>\n",
       "      <td>Windows</td>\n",
       "      <td>Male</td>\n",
       "    </tr>\n",
       "  </tbody>\n",
       "</table>\n",
       "</div>"
      ]
     },
     "execution_count": 1,
     "metadata": {},
     "output_type": "execute_result"
    }
   ],
   "execution_count": 1
  },
  {
   "metadata": {
    "ExecuteTime": {
     "end_time": "2025-07-09T14:21:16.013399Z",
     "start_time": "2025-07-09T14:21:15.992269Z"
    }
   },
   "cell_type": "code",
   "source": "surveys['Country'].is_unique",
   "id": "fd956d271af122c3",
   "outputs": [
    {
     "data": {
      "text/plain": [
       "False"
      ]
     },
     "execution_count": 4,
     "metadata": {},
     "output_type": "execute_result"
    }
   ],
   "execution_count": 4
  },
  {
   "metadata": {
    "ExecuteTime": {
     "end_time": "2025-07-09T14:25:01.448417Z",
     "start_time": "2025-07-09T14:25:01.438480Z"
    }
   },
   "cell_type": "code",
   "source": "surveys['Country'].unique()[:5]",
   "id": "55804d2c91144f12",
   "outputs": [
    {
     "data": {
      "text/plain": [
       "array(['Kenya', 'United Kingdom', 'United States', 'South Africa',\n",
       "       'Nigeria'], dtype=object)"
      ]
     },
     "execution_count": 6,
     "metadata": {},
     "output_type": "execute_result"
    }
   ],
   "execution_count": 6
  },
  {
   "metadata": {
    "ExecuteTime": {
     "end_time": "2025-07-09T14:25:17.616115Z",
     "start_time": "2025-07-09T14:25:17.593468Z"
    }
   },
   "cell_type": "code",
   "source": "len(surveys['Country'].unique())",
   "id": "244215ea95e846f4",
   "outputs": [
    {
     "data": {
      "text/plain": [
       "184"
      ]
     },
     "execution_count": 7,
     "metadata": {},
     "output_type": "execute_result"
    }
   ],
   "execution_count": 7
  },
  {
   "metadata": {
    "ExecuteTime": {
     "end_time": "2025-07-09T14:26:00.947095Z",
     "start_time": "2025-07-09T14:26:00.936754Z"
    }
   },
   "cell_type": "code",
   "source": "surveys.Country.nunique()",
   "id": "978b2ca9887540f5",
   "outputs": [
    {
     "data": {
      "text/plain": [
       "183"
      ]
     },
     "execution_count": 8,
     "metadata": {},
     "output_type": "execute_result"
    }
   ],
   "execution_count": 8
  },
  {
   "metadata": {
    "ExecuteTime": {
     "end_time": "2025-07-09T15:47:32.924618Z",
     "start_time": "2025-07-09T15:47:32.902007Z"
    }
   },
   "cell_type": "code",
   "source": [
    "duplicatesKeepFirst = surveys.duplicated(subset=['Country'])\n",
    "duplicatesKeepFirst"
   ],
   "id": "cee9787259b2693b",
   "outputs": [
    {
     "data": {
      "text/plain": [
       "0        False\n",
       "1        False\n",
       "2        False\n",
       "3         True\n",
       "4        False\n",
       "         ...  \n",
       "98850     True\n",
       "98851     True\n",
       "98852     True\n",
       "98853     True\n",
       "98854     True\n",
       "Length: 98855, dtype: bool"
      ]
     },
     "execution_count": 14,
     "metadata": {},
     "output_type": "execute_result"
    }
   ],
   "execution_count": 14
  },
  {
   "metadata": {
    "ExecuteTime": {
     "end_time": "2025-07-09T15:01:23.085497Z",
     "start_time": "2025-07-09T15:01:23.071577Z"
    }
   },
   "cell_type": "code",
   "source": "surveys[~duplicatesKeepFirst].head()",
   "id": "acd34c868a4c4352",
   "outputs": [
    {
     "data": {
      "text/plain": [
       "          Country OperatingSystem  Gender\n",
       "0           Kenya     Linux-based    Male\n",
       "1  United Kingdom     Linux-based    Male\n",
       "2   United States             NaN     NaN\n",
       "4    South Africa         Windows    Male\n",
       "7         Nigeria         Windows  Female"
      ],
      "text/html": [
       "<div>\n",
       "<style scoped>\n",
       "    .dataframe tbody tr th:only-of-type {\n",
       "        vertical-align: middle;\n",
       "    }\n",
       "\n",
       "    .dataframe tbody tr th {\n",
       "        vertical-align: top;\n",
       "    }\n",
       "\n",
       "    .dataframe thead th {\n",
       "        text-align: right;\n",
       "    }\n",
       "</style>\n",
       "<table border=\"1\" class=\"dataframe\">\n",
       "  <thead>\n",
       "    <tr style=\"text-align: right;\">\n",
       "      <th></th>\n",
       "      <th>Country</th>\n",
       "      <th>OperatingSystem</th>\n",
       "      <th>Gender</th>\n",
       "    </tr>\n",
       "  </thead>\n",
       "  <tbody>\n",
       "    <tr>\n",
       "      <th>0</th>\n",
       "      <td>Kenya</td>\n",
       "      <td>Linux-based</td>\n",
       "      <td>Male</td>\n",
       "    </tr>\n",
       "    <tr>\n",
       "      <th>1</th>\n",
       "      <td>United Kingdom</td>\n",
       "      <td>Linux-based</td>\n",
       "      <td>Male</td>\n",
       "    </tr>\n",
       "    <tr>\n",
       "      <th>2</th>\n",
       "      <td>United States</td>\n",
       "      <td>NaN</td>\n",
       "      <td>NaN</td>\n",
       "    </tr>\n",
       "    <tr>\n",
       "      <th>4</th>\n",
       "      <td>South Africa</td>\n",
       "      <td>Windows</td>\n",
       "      <td>Male</td>\n",
       "    </tr>\n",
       "    <tr>\n",
       "      <th>7</th>\n",
       "      <td>Nigeria</td>\n",
       "      <td>Windows</td>\n",
       "      <td>Female</td>\n",
       "    </tr>\n",
       "  </tbody>\n",
       "</table>\n",
       "</div>"
      ]
     },
     "execution_count": 13,
     "metadata": {},
     "output_type": "execute_result"
    }
   ],
   "execution_count": 13
  },
  {
   "metadata": {
    "ExecuteTime": {
     "end_time": "2025-07-09T16:09:47.780956Z",
     "start_time": "2025-07-09T16:09:47.773864Z"
    }
   },
   "cell_type": "code",
   "source": "surveys.drop_duplicates(subset=['Country', 'OperatingSystem'],inplace=True)",
   "id": "ae9539c5a2dcb483",
   "outputs": [],
   "execution_count": 20
  },
  {
   "metadata": {
    "ExecuteTime": {
     "end_time": "2025-07-09T16:09:50.302218Z",
     "start_time": "2025-07-09T16:09:50.296689Z"
    }
   },
   "cell_type": "code",
   "source": "",
   "id": "45cafa4302bfa5cc",
   "outputs": [],
   "execution_count": null
  },
  {
   "metadata": {},
   "cell_type": "code",
   "outputs": [],
   "execution_count": null,
   "source": "",
   "id": "62f3dc915fcfb116"
  }
 ],
 "metadata": {
  "kernelspec": {
   "display_name": "Python 3",
   "language": "python",
   "name": "python3"
  },
  "language_info": {
   "codemirror_mode": {
    "name": "ipython",
    "version": 2
   },
   "file_extension": ".py",
   "mimetype": "text/x-python",
   "name": "python",
   "nbconvert_exporter": "python",
   "pygments_lexer": "ipython2",
   "version": "2.7.6"
  }
 },
 "nbformat": 4,
 "nbformat_minor": 5
}
