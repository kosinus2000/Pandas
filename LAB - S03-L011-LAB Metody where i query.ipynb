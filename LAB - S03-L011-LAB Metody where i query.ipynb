{
 "cells": [
  {
   "cell_type": "code",
   "id": "initial_id",
   "metadata": {
    "collapsed": true,
    "ExecuteTime": {
     "end_time": "2025-07-04T15:40:05.218576Z",
     "start_time": "2025-07-04T15:40:05.189163Z"
    }
   },
   "source": [
    "import pandas as pd\n",
    "import numpy as np\n",
    "animals = pd.read_csv(\"C:\\\\Users\\\\huber_15ivafg\\\\Documents\\\\Pandas kurs materiały\\\\course-files\\\\sleep_time.csv\", index_col=\"ID\").fillna(0)\n",
    "animals.head()"
   ],
   "outputs": [
    {
     "data": {
      "text/plain": [
       "                          name       genus   vore         order  conservation  \\\n",
       "ID                                                                              \n",
       "1                      Cheetah    Acinonyx  carni     Carnivora            lc   \n",
       "2                   Owl monkey       Aotus   omni      Primates             0   \n",
       "3              Mountain beaver  Aplodontia  herbi      Rodentia            nt   \n",
       "4   Greater short-tailed shrew     Blarina   omni  Soricomorpha            lc   \n",
       "5                          Cow         Bos  herbi  Artiodactyla  domesticated   \n",
       "\n",
       "    sleep_total  sleep_rem  sleep_cycle  awake  brainwt   bodywt  \n",
       "ID                                                                \n",
       "1          12.1        0.0     0.000000   11.9  0.00000   50.000  \n",
       "2          17.0        1.8     0.000000    7.0  0.01550    0.480  \n",
       "3          14.4        2.4     0.000000    9.6  0.00000    1.350  \n",
       "4          14.9        2.3     0.133333    9.1  0.00029    0.019  \n",
       "5           4.0        0.7     0.666667   20.0  0.42300  600.000  "
      ],
      "text/html": [
       "<div>\n",
       "<style scoped>\n",
       "    .dataframe tbody tr th:only-of-type {\n",
       "        vertical-align: middle;\n",
       "    }\n",
       "\n",
       "    .dataframe tbody tr th {\n",
       "        vertical-align: top;\n",
       "    }\n",
       "\n",
       "    .dataframe thead th {\n",
       "        text-align: right;\n",
       "    }\n",
       "</style>\n",
       "<table border=\"1\" class=\"dataframe\">\n",
       "  <thead>\n",
       "    <tr style=\"text-align: right;\">\n",
       "      <th></th>\n",
       "      <th>name</th>\n",
       "      <th>genus</th>\n",
       "      <th>vore</th>\n",
       "      <th>order</th>\n",
       "      <th>conservation</th>\n",
       "      <th>sleep_total</th>\n",
       "      <th>sleep_rem</th>\n",
       "      <th>sleep_cycle</th>\n",
       "      <th>awake</th>\n",
       "      <th>brainwt</th>\n",
       "      <th>bodywt</th>\n",
       "    </tr>\n",
       "    <tr>\n",
       "      <th>ID</th>\n",
       "      <th></th>\n",
       "      <th></th>\n",
       "      <th></th>\n",
       "      <th></th>\n",
       "      <th></th>\n",
       "      <th></th>\n",
       "      <th></th>\n",
       "      <th></th>\n",
       "      <th></th>\n",
       "      <th></th>\n",
       "      <th></th>\n",
       "    </tr>\n",
       "  </thead>\n",
       "  <tbody>\n",
       "    <tr>\n",
       "      <th>1</th>\n",
       "      <td>Cheetah</td>\n",
       "      <td>Acinonyx</td>\n",
       "      <td>carni</td>\n",
       "      <td>Carnivora</td>\n",
       "      <td>lc</td>\n",
       "      <td>12.1</td>\n",
       "      <td>0.0</td>\n",
       "      <td>0.000000</td>\n",
       "      <td>11.9</td>\n",
       "      <td>0.00000</td>\n",
       "      <td>50.000</td>\n",
       "    </tr>\n",
       "    <tr>\n",
       "      <th>2</th>\n",
       "      <td>Owl monkey</td>\n",
       "      <td>Aotus</td>\n",
       "      <td>omni</td>\n",
       "      <td>Primates</td>\n",
       "      <td>0</td>\n",
       "      <td>17.0</td>\n",
       "      <td>1.8</td>\n",
       "      <td>0.000000</td>\n",
       "      <td>7.0</td>\n",
       "      <td>0.01550</td>\n",
       "      <td>0.480</td>\n",
       "    </tr>\n",
       "    <tr>\n",
       "      <th>3</th>\n",
       "      <td>Mountain beaver</td>\n",
       "      <td>Aplodontia</td>\n",
       "      <td>herbi</td>\n",
       "      <td>Rodentia</td>\n",
       "      <td>nt</td>\n",
       "      <td>14.4</td>\n",
       "      <td>2.4</td>\n",
       "      <td>0.000000</td>\n",
       "      <td>9.6</td>\n",
       "      <td>0.00000</td>\n",
       "      <td>1.350</td>\n",
       "    </tr>\n",
       "    <tr>\n",
       "      <th>4</th>\n",
       "      <td>Greater short-tailed shrew</td>\n",
       "      <td>Blarina</td>\n",
       "      <td>omni</td>\n",
       "      <td>Soricomorpha</td>\n",
       "      <td>lc</td>\n",
       "      <td>14.9</td>\n",
       "      <td>2.3</td>\n",
       "      <td>0.133333</td>\n",
       "      <td>9.1</td>\n",
       "      <td>0.00029</td>\n",
       "      <td>0.019</td>\n",
       "    </tr>\n",
       "    <tr>\n",
       "      <th>5</th>\n",
       "      <td>Cow</td>\n",
       "      <td>Bos</td>\n",
       "      <td>herbi</td>\n",
       "      <td>Artiodactyla</td>\n",
       "      <td>domesticated</td>\n",
       "      <td>4.0</td>\n",
       "      <td>0.7</td>\n",
       "      <td>0.666667</td>\n",
       "      <td>20.0</td>\n",
       "      <td>0.42300</td>\n",
       "      <td>600.000</td>\n",
       "    </tr>\n",
       "  </tbody>\n",
       "</table>\n",
       "</div>"
      ]
     },
     "execution_count": 2,
     "metadata": {},
     "output_type": "execute_result"
    }
   ],
   "execution_count": 2
  },
  {
   "metadata": {
    "ExecuteTime": {
     "end_time": "2025-07-04T15:46:29.772186Z",
     "start_time": "2025-07-04T15:46:29.753186Z"
    }
   },
   "cell_type": "code",
   "source": "herbi = animals['vore'].where(animals['vore'] == 'herbi')",
   "id": "cb3eba773bfc643b",
   "outputs": [],
   "execution_count": 3
  },
  {
   "metadata": {
    "ExecuteTime": {
     "end_time": "2025-07-04T15:46:36.010887Z",
     "start_time": "2025-07-04T15:46:35.997367Z"
    }
   },
   "cell_type": "code",
   "source": "herbi.head()",
   "id": "f37306af880f8dfc",
   "outputs": [
    {
     "data": {
      "text/plain": [
       "ID\n",
       "1      NaN\n",
       "2      NaN\n",
       "3    herbi\n",
       "4      NaN\n",
       "5    herbi\n",
       "Name: vore, dtype: object"
      ]
     },
     "execution_count": 4,
     "metadata": {},
     "output_type": "execute_result"
    }
   ],
   "execution_count": 4
  },
  {
   "metadata": {
    "ExecuteTime": {
     "end_time": "2025-07-04T16:21:04.406610Z",
     "start_time": "2025-07-04T16:21:04.374616Z"
    }
   },
   "cell_type": "code",
   "source": "herbi.info()",
   "id": "aa0403b5d6bd3d24",
   "outputs": [
    {
     "name": "stdout",
     "output_type": "stream",
     "text": [
      "<class 'pandas.core.series.Series'>\n",
      "Index: 83 entries, 1 to 83\n",
      "Series name: vore\n",
      "Non-Null Count  Dtype \n",
      "--------------  ----- \n",
      "32 non-null     object\n",
      "dtypes: object(1)\n",
      "memory usage: 1.3+ KB\n"
     ]
    }
   ],
   "execution_count": 5
  },
  {
   "metadata": {
    "ExecuteTime": {
     "end_time": "2025-07-04T16:21:44.425693Z",
     "start_time": "2025-07-04T16:21:44.417877Z"
    }
   },
   "cell_type": "code",
   "source": "len(herbi)",
   "id": "b3b1fb707d8f9a06",
   "outputs": [
    {
     "data": {
      "text/plain": [
       "83"
      ]
     },
     "execution_count": 6,
     "metadata": {},
     "output_type": "execute_result"
    }
   ],
   "execution_count": 6
  },
  {
   "metadata": {
    "ExecuteTime": {
     "end_time": "2025-07-04T16:21:56.994764Z",
     "start_time": "2025-07-04T16:21:56.987778Z"
    }
   },
   "cell_type": "code",
   "source": "len(herbi.dropna())",
   "id": "1b90268fc5144e26",
   "outputs": [
    {
     "data": {
      "text/plain": [
       "32"
      ]
     },
     "execution_count": 7,
     "metadata": {},
     "output_type": "execute_result"
    }
   ],
   "execution_count": 7
  },
  {
   "metadata": {
    "ExecuteTime": {
     "end_time": "2025-07-04T16:23:52.870193Z",
     "start_time": "2025-07-04T16:23:52.853143Z"
    }
   },
   "cell_type": "code",
   "source": "carni = animals.vore.where(animals.vore == 'carni')",
   "id": "f69fab02dfeac1cf",
   "outputs": [],
   "execution_count": 8
  },
  {
   "metadata": {
    "ExecuteTime": {
     "end_time": "2025-07-04T16:23:59.556527Z",
     "start_time": "2025-07-04T16:23:59.547358Z"
    }
   },
   "cell_type": "code",
   "source": "carni.head()",
   "id": "dac584e4e24746ea",
   "outputs": [
    {
     "data": {
      "text/plain": [
       "ID\n",
       "1    carni\n",
       "2      NaN\n",
       "3      NaN\n",
       "4      NaN\n",
       "5      NaN\n",
       "Name: vore, dtype: object"
      ]
     },
     "execution_count": 9,
     "metadata": {},
     "output_type": "execute_result"
    }
   ],
   "execution_count": 9
  },
  {
   "metadata": {
    "ExecuteTime": {
     "end_time": "2025-07-04T16:24:13.718342Z",
     "start_time": "2025-07-04T16:24:13.705361Z"
    }
   },
   "cell_type": "code",
   "source": "len(carni)\n",
   "id": "b02de4e04c540d65",
   "outputs": [
    {
     "data": {
      "text/plain": [
       "83"
      ]
     },
     "execution_count": 10,
     "metadata": {},
     "output_type": "execute_result"
    }
   ],
   "execution_count": 10
  },
  {
   "metadata": {
    "ExecuteTime": {
     "end_time": "2025-07-04T16:24:18.944888Z",
     "start_time": "2025-07-04T16:24:18.937600Z"
    }
   },
   "cell_type": "code",
   "source": "len(carni.dropna())",
   "id": "dbdffbf221b0ef0c",
   "outputs": [
    {
     "data": {
      "text/plain": [
       "19"
      ]
     },
     "execution_count": 11,
     "metadata": {},
     "output_type": "execute_result"
    }
   ],
   "execution_count": 11
  },
  {
   "metadata": {
    "ExecuteTime": {
     "end_time": "2025-07-04T17:32:50.273443Z",
     "start_time": "2025-07-04T17:32:50.264946Z"
    }
   },
   "cell_type": "code",
   "source": [
    "omni = animals.vore.where(animals.vore == 'omni')\n",
    "omni.head()"
   ],
   "id": "e929a83902498109",
   "outputs": [
    {
     "data": {
      "text/plain": [
       "ID\n",
       "1     NaN\n",
       "2    omni\n",
       "3     NaN\n",
       "4    omni\n",
       "5     NaN\n",
       "Name: vore, dtype: object"
      ]
     },
     "execution_count": 20,
     "metadata": {},
     "output_type": "execute_result"
    }
   ],
   "execution_count": 20
  },
  {
   "metadata": {
    "ExecuteTime": {
     "end_time": "2025-07-04T17:25:42.427743Z",
     "start_time": "2025-07-04T17:25:42.417835Z"
    }
   },
   "cell_type": "code",
   "source": "len(omni)",
   "id": "524ad18aafaf88fa",
   "outputs": [
    {
     "data": {
      "text/plain": [
       "83"
      ]
     },
     "execution_count": 13,
     "metadata": {},
     "output_type": "execute_result"
    }
   ],
   "execution_count": 13
  },
  {
   "metadata": {
    "ExecuteTime": {
     "end_time": "2025-07-04T17:25:52.106216Z",
     "start_time": "2025-07-04T17:25:52.093607Z"
    }
   },
   "cell_type": "code",
   "source": "len(omni.dropna())",
   "id": "ea8faf91bfe1cee5",
   "outputs": [
    {
     "data": {
      "text/plain": [
       "20"
      ]
     },
     "execution_count": 14,
     "metadata": {},
     "output_type": "execute_result"
    }
   ],
   "execution_count": 14
  },
  {
   "metadata": {
    "ExecuteTime": {
     "end_time": "2025-07-04T17:31:11.602024Z",
     "start_time": "2025-07-04T17:31:11.590988Z"
    }
   },
   "cell_type": "code",
   "source": "animals.sleep_total.where(animals.vore == 'omni').mean()",
   "id": "4a12b9f733994878",
   "outputs": [
    {
     "data": {
      "text/plain": [
       "np.float64(10.925)"
      ]
     },
     "execution_count": 17,
     "metadata": {},
     "output_type": "execute_result"
    }
   ],
   "execution_count": 17
  },
  {
   "metadata": {
    "ExecuteTime": {
     "end_time": "2025-07-04T17:31:43.339680Z",
     "start_time": "2025-07-04T17:31:43.331575Z"
    }
   },
   "cell_type": "code",
   "source": "animals.sleep_total.where(animals.vore == 'carni').mean()",
   "id": "82d6acf1af0c0f30",
   "outputs": [
    {
     "data": {
      "text/plain": [
       "np.float64(10.378947368421052)"
      ]
     },
     "execution_count": 18,
     "metadata": {},
     "output_type": "execute_result"
    }
   ],
   "execution_count": 18
  },
  {
   "metadata": {
    "ExecuteTime": {
     "end_time": "2025-07-04T17:31:49.577782Z",
     "start_time": "2025-07-04T17:31:49.569777Z"
    }
   },
   "cell_type": "code",
   "source": "animals.sleep_total.where(animals.vore == 'herbi').mean()",
   "id": "5afdcf968e25a603",
   "outputs": [
    {
     "data": {
      "text/plain": [
       "np.float64(9.509374999999999)"
      ]
     },
     "execution_count": 19,
     "metadata": {},
     "output_type": "execute_result"
    }
   ],
   "execution_count": 19
  },
  {
   "metadata": {
    "ExecuteTime": {
     "end_time": "2025-07-04T17:46:30.831144Z",
     "start_time": "2025-07-04T17:46:30.791059Z"
    }
   },
   "cell_type": "code",
   "source": "animals.query(\"sleep_total > 14\")",
   "id": "c32bd2956158d092",
   "outputs": [
    {
     "data": {
      "text/plain": [
       "                              name         genus     vore            order  \\\n",
       "ID                                                                           \n",
       "2                       Owl monkey         Aotus     omni         Primates   \n",
       "3                  Mountain beaver    Aplodontia    herbi         Rodentia   \n",
       "4       Greater short-tailed shrew       Blarina     omni     Soricomorpha   \n",
       "6                 Three-toed sloth      Bradypus    herbi           Pilosa   \n",
       "18            Long-nosed armadillo       Dasypus    carni        Cingulata   \n",
       "20          North American Opossum     Didelphis     omni  Didelphimorphia   \n",
       "22                   Big brown bat     Eptesicus  insecti       Chiroptera   \n",
       "27       Western american chipmunk      Eutamias    herbi         Rodentia   \n",
       "37            Thick-tailed opposum    Lutreolina    carni  Didelphimorphia   \n",
       "39                Mongolian gerbil      Meriones    herbi         Rodentia   \n",
       "40                  Golden hamster  Mesocricetus    herbi         Rodentia   \n",
       "43                Little brown bat        Myotis  insecti       Chiroptera   \n",
       "44            Round-tailed muskrat      Neofiber    herbi         Rodentia   \n",
       "47      Northern grasshopper mouse     Onychomys    carni         Rodentia   \n",
       "51                           Tiger      Panthera    carni        Carnivora   \n",
       "62                 Giant armadillo    Priodontes  insecti        Cingulata   \n",
       "70          Arctic ground squirrel  Spermophilus    herbi         Rodentia   \n",
       "72  Golden-mantled ground squirrel  Spermophilus    herbi         Rodentia   \n",
       "76       Eastern american chipmunk        Tamias    herbi         Rodentia   \n",
       "78                          Tenrec        Tenrec     omni     Afrosoricida   \n",
       "\n",
       "   conservation  sleep_total  sleep_rem  sleep_cycle  awake  brainwt   bodywt  \n",
       "ID                                                                             \n",
       "2             0         17.0        1.8     0.000000    7.0  0.01550    0.480  \n",
       "3            nt         14.4        2.4     0.000000    9.6  0.00000    1.350  \n",
       "4            lc         14.9        2.3     0.133333    9.1  0.00029    0.019  \n",
       "6             0         14.4        2.2     0.766667    9.6  0.00000    3.850  \n",
       "18           lc         17.4        3.1     0.383333    6.6  0.01080    3.500  \n",
       "20           lc         18.0        4.9     0.333333    6.0  0.00630    1.700  \n",
       "22           lc         19.7        3.9     0.116667    4.3  0.00030    0.023  \n",
       "27            0         14.9        0.0     0.000000    9.1  0.00000    0.071  \n",
       "37           lc         19.4        6.6     0.000000    4.6  0.00000    0.370  \n",
       "39           lc         14.2        1.9     0.000000    9.8  0.00000    0.053  \n",
       "40           en         14.3        3.1     0.200000    9.7  0.00100    0.120  \n",
       "43            0         19.9        2.0     0.200000    4.1  0.00025    0.010  \n",
       "44           nt         14.6        0.0     0.000000    9.4  0.00000    0.266  \n",
       "47           lc         14.5        0.0     0.000000    9.5  0.00000    0.028  \n",
       "51           en         15.8        0.0     0.000000    8.2  0.00000  162.564  \n",
       "62           en         18.1        6.1     0.000000    5.9  0.08100   60.000  \n",
       "70           lc         16.6        0.0     0.000000    7.4  0.00570    0.920  \n",
       "72           lc         15.9        3.0     0.000000    8.1  0.00000    0.205  \n",
       "76            0         15.8        0.0     0.000000    8.2  0.00000    0.112  \n",
       "78            0         15.6        2.3     0.000000    8.4  0.00260    0.900  "
      ],
      "text/html": [
       "<div>\n",
       "<style scoped>\n",
       "    .dataframe tbody tr th:only-of-type {\n",
       "        vertical-align: middle;\n",
       "    }\n",
       "\n",
       "    .dataframe tbody tr th {\n",
       "        vertical-align: top;\n",
       "    }\n",
       "\n",
       "    .dataframe thead th {\n",
       "        text-align: right;\n",
       "    }\n",
       "</style>\n",
       "<table border=\"1\" class=\"dataframe\">\n",
       "  <thead>\n",
       "    <tr style=\"text-align: right;\">\n",
       "      <th></th>\n",
       "      <th>name</th>\n",
       "      <th>genus</th>\n",
       "      <th>vore</th>\n",
       "      <th>order</th>\n",
       "      <th>conservation</th>\n",
       "      <th>sleep_total</th>\n",
       "      <th>sleep_rem</th>\n",
       "      <th>sleep_cycle</th>\n",
       "      <th>awake</th>\n",
       "      <th>brainwt</th>\n",
       "      <th>bodywt</th>\n",
       "    </tr>\n",
       "    <tr>\n",
       "      <th>ID</th>\n",
       "      <th></th>\n",
       "      <th></th>\n",
       "      <th></th>\n",
       "      <th></th>\n",
       "      <th></th>\n",
       "      <th></th>\n",
       "      <th></th>\n",
       "      <th></th>\n",
       "      <th></th>\n",
       "      <th></th>\n",
       "      <th></th>\n",
       "    </tr>\n",
       "  </thead>\n",
       "  <tbody>\n",
       "    <tr>\n",
       "      <th>2</th>\n",
       "      <td>Owl monkey</td>\n",
       "      <td>Aotus</td>\n",
       "      <td>omni</td>\n",
       "      <td>Primates</td>\n",
       "      <td>0</td>\n",
       "      <td>17.0</td>\n",
       "      <td>1.8</td>\n",
       "      <td>0.000000</td>\n",
       "      <td>7.0</td>\n",
       "      <td>0.01550</td>\n",
       "      <td>0.480</td>\n",
       "    </tr>\n",
       "    <tr>\n",
       "      <th>3</th>\n",
       "      <td>Mountain beaver</td>\n",
       "      <td>Aplodontia</td>\n",
       "      <td>herbi</td>\n",
       "      <td>Rodentia</td>\n",
       "      <td>nt</td>\n",
       "      <td>14.4</td>\n",
       "      <td>2.4</td>\n",
       "      <td>0.000000</td>\n",
       "      <td>9.6</td>\n",
       "      <td>0.00000</td>\n",
       "      <td>1.350</td>\n",
       "    </tr>\n",
       "    <tr>\n",
       "      <th>4</th>\n",
       "      <td>Greater short-tailed shrew</td>\n",
       "      <td>Blarina</td>\n",
       "      <td>omni</td>\n",
       "      <td>Soricomorpha</td>\n",
       "      <td>lc</td>\n",
       "      <td>14.9</td>\n",
       "      <td>2.3</td>\n",
       "      <td>0.133333</td>\n",
       "      <td>9.1</td>\n",
       "      <td>0.00029</td>\n",
       "      <td>0.019</td>\n",
       "    </tr>\n",
       "    <tr>\n",
       "      <th>6</th>\n",
       "      <td>Three-toed sloth</td>\n",
       "      <td>Bradypus</td>\n",
       "      <td>herbi</td>\n",
       "      <td>Pilosa</td>\n",
       "      <td>0</td>\n",
       "      <td>14.4</td>\n",
       "      <td>2.2</td>\n",
       "      <td>0.766667</td>\n",
       "      <td>9.6</td>\n",
       "      <td>0.00000</td>\n",
       "      <td>3.850</td>\n",
       "    </tr>\n",
       "    <tr>\n",
       "      <th>18</th>\n",
       "      <td>Long-nosed armadillo</td>\n",
       "      <td>Dasypus</td>\n",
       "      <td>carni</td>\n",
       "      <td>Cingulata</td>\n",
       "      <td>lc</td>\n",
       "      <td>17.4</td>\n",
       "      <td>3.1</td>\n",
       "      <td>0.383333</td>\n",
       "      <td>6.6</td>\n",
       "      <td>0.01080</td>\n",
       "      <td>3.500</td>\n",
       "    </tr>\n",
       "    <tr>\n",
       "      <th>20</th>\n",
       "      <td>North American Opossum</td>\n",
       "      <td>Didelphis</td>\n",
       "      <td>omni</td>\n",
       "      <td>Didelphimorphia</td>\n",
       "      <td>lc</td>\n",
       "      <td>18.0</td>\n",
       "      <td>4.9</td>\n",
       "      <td>0.333333</td>\n",
       "      <td>6.0</td>\n",
       "      <td>0.00630</td>\n",
       "      <td>1.700</td>\n",
       "    </tr>\n",
       "    <tr>\n",
       "      <th>22</th>\n",
       "      <td>Big brown bat</td>\n",
       "      <td>Eptesicus</td>\n",
       "      <td>insecti</td>\n",
       "      <td>Chiroptera</td>\n",
       "      <td>lc</td>\n",
       "      <td>19.7</td>\n",
       "      <td>3.9</td>\n",
       "      <td>0.116667</td>\n",
       "      <td>4.3</td>\n",
       "      <td>0.00030</td>\n",
       "      <td>0.023</td>\n",
       "    </tr>\n",
       "    <tr>\n",
       "      <th>27</th>\n",
       "      <td>Western american chipmunk</td>\n",
       "      <td>Eutamias</td>\n",
       "      <td>herbi</td>\n",
       "      <td>Rodentia</td>\n",
       "      <td>0</td>\n",
       "      <td>14.9</td>\n",
       "      <td>0.0</td>\n",
       "      <td>0.000000</td>\n",
       "      <td>9.1</td>\n",
       "      <td>0.00000</td>\n",
       "      <td>0.071</td>\n",
       "    </tr>\n",
       "    <tr>\n",
       "      <th>37</th>\n",
       "      <td>Thick-tailed opposum</td>\n",
       "      <td>Lutreolina</td>\n",
       "      <td>carni</td>\n",
       "      <td>Didelphimorphia</td>\n",
       "      <td>lc</td>\n",
       "      <td>19.4</td>\n",
       "      <td>6.6</td>\n",
       "      <td>0.000000</td>\n",
       "      <td>4.6</td>\n",
       "      <td>0.00000</td>\n",
       "      <td>0.370</td>\n",
       "    </tr>\n",
       "    <tr>\n",
       "      <th>39</th>\n",
       "      <td>Mongolian gerbil</td>\n",
       "      <td>Meriones</td>\n",
       "      <td>herbi</td>\n",
       "      <td>Rodentia</td>\n",
       "      <td>lc</td>\n",
       "      <td>14.2</td>\n",
       "      <td>1.9</td>\n",
       "      <td>0.000000</td>\n",
       "      <td>9.8</td>\n",
       "      <td>0.00000</td>\n",
       "      <td>0.053</td>\n",
       "    </tr>\n",
       "    <tr>\n",
       "      <th>40</th>\n",
       "      <td>Golden hamster</td>\n",
       "      <td>Mesocricetus</td>\n",
       "      <td>herbi</td>\n",
       "      <td>Rodentia</td>\n",
       "      <td>en</td>\n",
       "      <td>14.3</td>\n",
       "      <td>3.1</td>\n",
       "      <td>0.200000</td>\n",
       "      <td>9.7</td>\n",
       "      <td>0.00100</td>\n",
       "      <td>0.120</td>\n",
       "    </tr>\n",
       "    <tr>\n",
       "      <th>43</th>\n",
       "      <td>Little brown bat</td>\n",
       "      <td>Myotis</td>\n",
       "      <td>insecti</td>\n",
       "      <td>Chiroptera</td>\n",
       "      <td>0</td>\n",
       "      <td>19.9</td>\n",
       "      <td>2.0</td>\n",
       "      <td>0.200000</td>\n",
       "      <td>4.1</td>\n",
       "      <td>0.00025</td>\n",
       "      <td>0.010</td>\n",
       "    </tr>\n",
       "    <tr>\n",
       "      <th>44</th>\n",
       "      <td>Round-tailed muskrat</td>\n",
       "      <td>Neofiber</td>\n",
       "      <td>herbi</td>\n",
       "      <td>Rodentia</td>\n",
       "      <td>nt</td>\n",
       "      <td>14.6</td>\n",
       "      <td>0.0</td>\n",
       "      <td>0.000000</td>\n",
       "      <td>9.4</td>\n",
       "      <td>0.00000</td>\n",
       "      <td>0.266</td>\n",
       "    </tr>\n",
       "    <tr>\n",
       "      <th>47</th>\n",
       "      <td>Northern grasshopper mouse</td>\n",
       "      <td>Onychomys</td>\n",
       "      <td>carni</td>\n",
       "      <td>Rodentia</td>\n",
       "      <td>lc</td>\n",
       "      <td>14.5</td>\n",
       "      <td>0.0</td>\n",
       "      <td>0.000000</td>\n",
       "      <td>9.5</td>\n",
       "      <td>0.00000</td>\n",
       "      <td>0.028</td>\n",
       "    </tr>\n",
       "    <tr>\n",
       "      <th>51</th>\n",
       "      <td>Tiger</td>\n",
       "      <td>Panthera</td>\n",
       "      <td>carni</td>\n",
       "      <td>Carnivora</td>\n",
       "      <td>en</td>\n",
       "      <td>15.8</td>\n",
       "      <td>0.0</td>\n",
       "      <td>0.000000</td>\n",
       "      <td>8.2</td>\n",
       "      <td>0.00000</td>\n",
       "      <td>162.564</td>\n",
       "    </tr>\n",
       "    <tr>\n",
       "      <th>62</th>\n",
       "      <td>Giant armadillo</td>\n",
       "      <td>Priodontes</td>\n",
       "      <td>insecti</td>\n",
       "      <td>Cingulata</td>\n",
       "      <td>en</td>\n",
       "      <td>18.1</td>\n",
       "      <td>6.1</td>\n",
       "      <td>0.000000</td>\n",
       "      <td>5.9</td>\n",
       "      <td>0.08100</td>\n",
       "      <td>60.000</td>\n",
       "    </tr>\n",
       "    <tr>\n",
       "      <th>70</th>\n",
       "      <td>Arctic ground squirrel</td>\n",
       "      <td>Spermophilus</td>\n",
       "      <td>herbi</td>\n",
       "      <td>Rodentia</td>\n",
       "      <td>lc</td>\n",
       "      <td>16.6</td>\n",
       "      <td>0.0</td>\n",
       "      <td>0.000000</td>\n",
       "      <td>7.4</td>\n",
       "      <td>0.00570</td>\n",
       "      <td>0.920</td>\n",
       "    </tr>\n",
       "    <tr>\n",
       "      <th>72</th>\n",
       "      <td>Golden-mantled ground squirrel</td>\n",
       "      <td>Spermophilus</td>\n",
       "      <td>herbi</td>\n",
       "      <td>Rodentia</td>\n",
       "      <td>lc</td>\n",
       "      <td>15.9</td>\n",
       "      <td>3.0</td>\n",
       "      <td>0.000000</td>\n",
       "      <td>8.1</td>\n",
       "      <td>0.00000</td>\n",
       "      <td>0.205</td>\n",
       "    </tr>\n",
       "    <tr>\n",
       "      <th>76</th>\n",
       "      <td>Eastern american chipmunk</td>\n",
       "      <td>Tamias</td>\n",
       "      <td>herbi</td>\n",
       "      <td>Rodentia</td>\n",
       "      <td>0</td>\n",
       "      <td>15.8</td>\n",
       "      <td>0.0</td>\n",
       "      <td>0.000000</td>\n",
       "      <td>8.2</td>\n",
       "      <td>0.00000</td>\n",
       "      <td>0.112</td>\n",
       "    </tr>\n",
       "    <tr>\n",
       "      <th>78</th>\n",
       "      <td>Tenrec</td>\n",
       "      <td>Tenrec</td>\n",
       "      <td>omni</td>\n",
       "      <td>Afrosoricida</td>\n",
       "      <td>0</td>\n",
       "      <td>15.6</td>\n",
       "      <td>2.3</td>\n",
       "      <td>0.000000</td>\n",
       "      <td>8.4</td>\n",
       "      <td>0.00260</td>\n",
       "      <td>0.900</td>\n",
       "    </tr>\n",
       "  </tbody>\n",
       "</table>\n",
       "</div>"
      ]
     },
     "execution_count": 21,
     "metadata": {},
     "output_type": "execute_result"
    }
   ],
   "execution_count": 21
  },
  {
   "metadata": {
    "ExecuteTime": {
     "end_time": "2025-07-04T17:47:45.235424Z",
     "start_time": "2025-07-04T17:47:45.210425Z"
    }
   },
   "cell_type": "code",
   "source": "animals.query(\"sleep_total > 14 & vore == 'herbi'\")",
   "id": "bddb1d592ff51d1c",
   "outputs": [
    {
     "data": {
      "text/plain": [
       "                              name         genus   vore     order  \\\n",
       "ID                                                                  \n",
       "3                  Mountain beaver    Aplodontia  herbi  Rodentia   \n",
       "6                 Three-toed sloth      Bradypus  herbi    Pilosa   \n",
       "27       Western american chipmunk      Eutamias  herbi  Rodentia   \n",
       "39                Mongolian gerbil      Meriones  herbi  Rodentia   \n",
       "40                  Golden hamster  Mesocricetus  herbi  Rodentia   \n",
       "44            Round-tailed muskrat      Neofiber  herbi  Rodentia   \n",
       "70          Arctic ground squirrel  Spermophilus  herbi  Rodentia   \n",
       "72  Golden-mantled ground squirrel  Spermophilus  herbi  Rodentia   \n",
       "76       Eastern american chipmunk        Tamias  herbi  Rodentia   \n",
       "\n",
       "   conservation  sleep_total  sleep_rem  sleep_cycle  awake  brainwt  bodywt  \n",
       "ID                                                                            \n",
       "3            nt         14.4        2.4     0.000000    9.6   0.0000   1.350  \n",
       "6             0         14.4        2.2     0.766667    9.6   0.0000   3.850  \n",
       "27            0         14.9        0.0     0.000000    9.1   0.0000   0.071  \n",
       "39           lc         14.2        1.9     0.000000    9.8   0.0000   0.053  \n",
       "40           en         14.3        3.1     0.200000    9.7   0.0010   0.120  \n",
       "44           nt         14.6        0.0     0.000000    9.4   0.0000   0.266  \n",
       "70           lc         16.6        0.0     0.000000    7.4   0.0057   0.920  \n",
       "72           lc         15.9        3.0     0.000000    8.1   0.0000   0.205  \n",
       "76            0         15.8        0.0     0.000000    8.2   0.0000   0.112  "
      ],
      "text/html": [
       "<div>\n",
       "<style scoped>\n",
       "    .dataframe tbody tr th:only-of-type {\n",
       "        vertical-align: middle;\n",
       "    }\n",
       "\n",
       "    .dataframe tbody tr th {\n",
       "        vertical-align: top;\n",
       "    }\n",
       "\n",
       "    .dataframe thead th {\n",
       "        text-align: right;\n",
       "    }\n",
       "</style>\n",
       "<table border=\"1\" class=\"dataframe\">\n",
       "  <thead>\n",
       "    <tr style=\"text-align: right;\">\n",
       "      <th></th>\n",
       "      <th>name</th>\n",
       "      <th>genus</th>\n",
       "      <th>vore</th>\n",
       "      <th>order</th>\n",
       "      <th>conservation</th>\n",
       "      <th>sleep_total</th>\n",
       "      <th>sleep_rem</th>\n",
       "      <th>sleep_cycle</th>\n",
       "      <th>awake</th>\n",
       "      <th>brainwt</th>\n",
       "      <th>bodywt</th>\n",
       "    </tr>\n",
       "    <tr>\n",
       "      <th>ID</th>\n",
       "      <th></th>\n",
       "      <th></th>\n",
       "      <th></th>\n",
       "      <th></th>\n",
       "      <th></th>\n",
       "      <th></th>\n",
       "      <th></th>\n",
       "      <th></th>\n",
       "      <th></th>\n",
       "      <th></th>\n",
       "      <th></th>\n",
       "    </tr>\n",
       "  </thead>\n",
       "  <tbody>\n",
       "    <tr>\n",
       "      <th>3</th>\n",
       "      <td>Mountain beaver</td>\n",
       "      <td>Aplodontia</td>\n",
       "      <td>herbi</td>\n",
       "      <td>Rodentia</td>\n",
       "      <td>nt</td>\n",
       "      <td>14.4</td>\n",
       "      <td>2.4</td>\n",
       "      <td>0.000000</td>\n",
       "      <td>9.6</td>\n",
       "      <td>0.0000</td>\n",
       "      <td>1.350</td>\n",
       "    </tr>\n",
       "    <tr>\n",
       "      <th>6</th>\n",
       "      <td>Three-toed sloth</td>\n",
       "      <td>Bradypus</td>\n",
       "      <td>herbi</td>\n",
       "      <td>Pilosa</td>\n",
       "      <td>0</td>\n",
       "      <td>14.4</td>\n",
       "      <td>2.2</td>\n",
       "      <td>0.766667</td>\n",
       "      <td>9.6</td>\n",
       "      <td>0.0000</td>\n",
       "      <td>3.850</td>\n",
       "    </tr>\n",
       "    <tr>\n",
       "      <th>27</th>\n",
       "      <td>Western american chipmunk</td>\n",
       "      <td>Eutamias</td>\n",
       "      <td>herbi</td>\n",
       "      <td>Rodentia</td>\n",
       "      <td>0</td>\n",
       "      <td>14.9</td>\n",
       "      <td>0.0</td>\n",
       "      <td>0.000000</td>\n",
       "      <td>9.1</td>\n",
       "      <td>0.0000</td>\n",
       "      <td>0.071</td>\n",
       "    </tr>\n",
       "    <tr>\n",
       "      <th>39</th>\n",
       "      <td>Mongolian gerbil</td>\n",
       "      <td>Meriones</td>\n",
       "      <td>herbi</td>\n",
       "      <td>Rodentia</td>\n",
       "      <td>lc</td>\n",
       "      <td>14.2</td>\n",
       "      <td>1.9</td>\n",
       "      <td>0.000000</td>\n",
       "      <td>9.8</td>\n",
       "      <td>0.0000</td>\n",
       "      <td>0.053</td>\n",
       "    </tr>\n",
       "    <tr>\n",
       "      <th>40</th>\n",
       "      <td>Golden hamster</td>\n",
       "      <td>Mesocricetus</td>\n",
       "      <td>herbi</td>\n",
       "      <td>Rodentia</td>\n",
       "      <td>en</td>\n",
       "      <td>14.3</td>\n",
       "      <td>3.1</td>\n",
       "      <td>0.200000</td>\n",
       "      <td>9.7</td>\n",
       "      <td>0.0010</td>\n",
       "      <td>0.120</td>\n",
       "    </tr>\n",
       "    <tr>\n",
       "      <th>44</th>\n",
       "      <td>Round-tailed muskrat</td>\n",
       "      <td>Neofiber</td>\n",
       "      <td>herbi</td>\n",
       "      <td>Rodentia</td>\n",
       "      <td>nt</td>\n",
       "      <td>14.6</td>\n",
       "      <td>0.0</td>\n",
       "      <td>0.000000</td>\n",
       "      <td>9.4</td>\n",
       "      <td>0.0000</td>\n",
       "      <td>0.266</td>\n",
       "    </tr>\n",
       "    <tr>\n",
       "      <th>70</th>\n",
       "      <td>Arctic ground squirrel</td>\n",
       "      <td>Spermophilus</td>\n",
       "      <td>herbi</td>\n",
       "      <td>Rodentia</td>\n",
       "      <td>lc</td>\n",
       "      <td>16.6</td>\n",
       "      <td>0.0</td>\n",
       "      <td>0.000000</td>\n",
       "      <td>7.4</td>\n",
       "      <td>0.0057</td>\n",
       "      <td>0.920</td>\n",
       "    </tr>\n",
       "    <tr>\n",
       "      <th>72</th>\n",
       "      <td>Golden-mantled ground squirrel</td>\n",
       "      <td>Spermophilus</td>\n",
       "      <td>herbi</td>\n",
       "      <td>Rodentia</td>\n",
       "      <td>lc</td>\n",
       "      <td>15.9</td>\n",
       "      <td>3.0</td>\n",
       "      <td>0.000000</td>\n",
       "      <td>8.1</td>\n",
       "      <td>0.0000</td>\n",
       "      <td>0.205</td>\n",
       "    </tr>\n",
       "    <tr>\n",
       "      <th>76</th>\n",
       "      <td>Eastern american chipmunk</td>\n",
       "      <td>Tamias</td>\n",
       "      <td>herbi</td>\n",
       "      <td>Rodentia</td>\n",
       "      <td>0</td>\n",
       "      <td>15.8</td>\n",
       "      <td>0.0</td>\n",
       "      <td>0.000000</td>\n",
       "      <td>8.2</td>\n",
       "      <td>0.0000</td>\n",
       "      <td>0.112</td>\n",
       "    </tr>\n",
       "  </tbody>\n",
       "</table>\n",
       "</div>"
      ]
     },
     "execution_count": 24,
     "metadata": {},
     "output_type": "execute_result"
    }
   ],
   "execution_count": 24
  },
  {
   "metadata": {
    "ExecuteTime": {
     "end_time": "2025-07-04T17:48:23.149835Z",
     "start_time": "2025-07-04T17:48:23.135194Z"
    }
   },
   "cell_type": "code",
   "source": "animals.query(\"sleep_total > 14 & vore == 'herbi' & bodywt > 1\")",
   "id": "e46597eb8e5cfe4f",
   "outputs": [
    {
     "data": {
      "text/plain": [
       "                name       genus   vore     order conservation  sleep_total  \\\n",
       "ID                                                                            \n",
       "3    Mountain beaver  Aplodontia  herbi  Rodentia           nt         14.4   \n",
       "6   Three-toed sloth    Bradypus  herbi    Pilosa            0         14.4   \n",
       "\n",
       "    sleep_rem  sleep_cycle  awake  brainwt  bodywt  \n",
       "ID                                                  \n",
       "3         2.4     0.000000    9.6      0.0    1.35  \n",
       "6         2.2     0.766667    9.6      0.0    3.85  "
      ],
      "text/html": [
       "<div>\n",
       "<style scoped>\n",
       "    .dataframe tbody tr th:only-of-type {\n",
       "        vertical-align: middle;\n",
       "    }\n",
       "\n",
       "    .dataframe tbody tr th {\n",
       "        vertical-align: top;\n",
       "    }\n",
       "\n",
       "    .dataframe thead th {\n",
       "        text-align: right;\n",
       "    }\n",
       "</style>\n",
       "<table border=\"1\" class=\"dataframe\">\n",
       "  <thead>\n",
       "    <tr style=\"text-align: right;\">\n",
       "      <th></th>\n",
       "      <th>name</th>\n",
       "      <th>genus</th>\n",
       "      <th>vore</th>\n",
       "      <th>order</th>\n",
       "      <th>conservation</th>\n",
       "      <th>sleep_total</th>\n",
       "      <th>sleep_rem</th>\n",
       "      <th>sleep_cycle</th>\n",
       "      <th>awake</th>\n",
       "      <th>brainwt</th>\n",
       "      <th>bodywt</th>\n",
       "    </tr>\n",
       "    <tr>\n",
       "      <th>ID</th>\n",
       "      <th></th>\n",
       "      <th></th>\n",
       "      <th></th>\n",
       "      <th></th>\n",
       "      <th></th>\n",
       "      <th></th>\n",
       "      <th></th>\n",
       "      <th></th>\n",
       "      <th></th>\n",
       "      <th></th>\n",
       "      <th></th>\n",
       "    </tr>\n",
       "  </thead>\n",
       "  <tbody>\n",
       "    <tr>\n",
       "      <th>3</th>\n",
       "      <td>Mountain beaver</td>\n",
       "      <td>Aplodontia</td>\n",
       "      <td>herbi</td>\n",
       "      <td>Rodentia</td>\n",
       "      <td>nt</td>\n",
       "      <td>14.4</td>\n",
       "      <td>2.4</td>\n",
       "      <td>0.000000</td>\n",
       "      <td>9.6</td>\n",
       "      <td>0.0</td>\n",
       "      <td>1.35</td>\n",
       "    </tr>\n",
       "    <tr>\n",
       "      <th>6</th>\n",
       "      <td>Three-toed sloth</td>\n",
       "      <td>Bradypus</td>\n",
       "      <td>herbi</td>\n",
       "      <td>Pilosa</td>\n",
       "      <td>0</td>\n",
       "      <td>14.4</td>\n",
       "      <td>2.2</td>\n",
       "      <td>0.766667</td>\n",
       "      <td>9.6</td>\n",
       "      <td>0.0</td>\n",
       "      <td>3.85</td>\n",
       "    </tr>\n",
       "  </tbody>\n",
       "</table>\n",
       "</div>"
      ]
     },
     "execution_count": 25,
     "metadata": {},
     "output_type": "execute_result"
    }
   ],
   "execution_count": 25
  },
  {
   "metadata": {},
   "cell_type": "code",
   "outputs": [],
   "execution_count": null,
   "source": "",
   "id": "35f42c18d0289996"
  }
 ],
 "metadata": {
  "kernelspec": {
   "display_name": "Python 3",
   "language": "python",
   "name": "python3"
  },
  "language_info": {
   "codemirror_mode": {
    "name": "ipython",
    "version": 2
   },
   "file_extension": ".py",
   "mimetype": "text/x-python",
   "name": "python",
   "nbconvert_exporter": "python",
   "pygments_lexer": "ipython2",
   "version": "2.7.6"
  }
 },
 "nbformat": 4,
 "nbformat_minor": 5
}
