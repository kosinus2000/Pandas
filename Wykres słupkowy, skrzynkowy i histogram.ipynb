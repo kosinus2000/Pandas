{
 "cells": [
  {
   "cell_type": "code",
   "id": "initial_id",
   "metadata": {
    "collapsed": true,
    "ExecuteTime": {
     "end_time": "2025-07-25T15:07:17.979608Z",
     "start_time": "2025-07-25T15:07:17.973426Z"
    }
   },
   "source": [
    "import pandas as pd\n",
    "import numpy as np\n",
    "import matplotlib.pyplot as plt\n",
    "%matplotlib inline"
   ],
   "outputs": [],
   "execution_count": 9
  },
  {
   "metadata": {
    "ExecuteTime": {
     "end_time": "2025-07-25T15:07:18.031952Z",
     "start_time": "2025-07-25T15:07:18.022439Z"
    }
   },
   "cell_type": "code",
   "source": "bar = pd.read_csv(r\"C:\\Users\\huber_15ivafg\\Documents\\Pandas kurs materiały\\course-files\\weather_barcelona.csv\", index_col='Date')",
   "id": "5b249b12a2896cdf",
   "outputs": [],
   "execution_count": 10
  },
  {
   "metadata": {
    "ExecuteTime": {
     "end_time": "2025-07-25T15:07:18.094002Z",
     "start_time": "2025-07-25T15:07:18.084720Z"
    }
   },
   "cell_type": "code",
   "source": "rom = pd.read_csv(r\"C:\\Users\\huber_15ivafg\\Documents\\Pandas kurs materiały\\course-files\\weather_rome.csv\", index_col='Date')",
   "id": "ca405caa5d6be368",
   "outputs": [],
   "execution_count": 11
  },
  {
   "metadata": {
    "ExecuteTime": {
     "end_time": "2025-07-25T15:07:18.162216Z",
     "start_time": "2025-07-25T15:07:18.151226Z"
    }
   },
   "cell_type": "code",
   "source": "ams = pd.read_csv(r\"C:\\Users\\huber_15ivafg\\Documents\\Pandas kurs materiały\\course-files\\weather_amsterdam.csv\", index_col='Date')",
   "id": "bfb2886d40d4ef73",
   "outputs": [],
   "execution_count": 12
  },
  {
   "metadata": {
    "ExecuteTime": {
     "end_time": "2025-07-25T15:07:18.218690Z",
     "start_time": "2025-07-25T15:07:18.207117Z"
    }
   },
   "cell_type": "code",
   "source": "bar.head()\n",
   "id": "2ceece9a230a4369",
   "outputs": [
    {
     "data": {
      "text/plain": [
       "            TempMax  TempMin  Rain  AvgTempMax  AvgTempMin\n",
       "Date                                                      \n",
       "2018-01-01       17       11     0          13           7\n",
       "2018-01-02       19        8     0          13           7\n",
       "2018-01-03       23       11     0          13           7\n",
       "2018-01-04       24       15     0          13           7\n",
       "2018-01-05       20       10     0          13           7"
      ],
      "text/html": [
       "<div>\n",
       "<style scoped>\n",
       "    .dataframe tbody tr th:only-of-type {\n",
       "        vertical-align: middle;\n",
       "    }\n",
       "\n",
       "    .dataframe tbody tr th {\n",
       "        vertical-align: top;\n",
       "    }\n",
       "\n",
       "    .dataframe thead th {\n",
       "        text-align: right;\n",
       "    }\n",
       "</style>\n",
       "<table border=\"1\" class=\"dataframe\">\n",
       "  <thead>\n",
       "    <tr style=\"text-align: right;\">\n",
       "      <th></th>\n",
       "      <th>TempMax</th>\n",
       "      <th>TempMin</th>\n",
       "      <th>Rain</th>\n",
       "      <th>AvgTempMax</th>\n",
       "      <th>AvgTempMin</th>\n",
       "    </tr>\n",
       "    <tr>\n",
       "      <th>Date</th>\n",
       "      <th></th>\n",
       "      <th></th>\n",
       "      <th></th>\n",
       "      <th></th>\n",
       "      <th></th>\n",
       "    </tr>\n",
       "  </thead>\n",
       "  <tbody>\n",
       "    <tr>\n",
       "      <th>2018-01-01</th>\n",
       "      <td>17</td>\n",
       "      <td>11</td>\n",
       "      <td>0</td>\n",
       "      <td>13</td>\n",
       "      <td>7</td>\n",
       "    </tr>\n",
       "    <tr>\n",
       "      <th>2018-01-02</th>\n",
       "      <td>19</td>\n",
       "      <td>8</td>\n",
       "      <td>0</td>\n",
       "      <td>13</td>\n",
       "      <td>7</td>\n",
       "    </tr>\n",
       "    <tr>\n",
       "      <th>2018-01-03</th>\n",
       "      <td>23</td>\n",
       "      <td>11</td>\n",
       "      <td>0</td>\n",
       "      <td>13</td>\n",
       "      <td>7</td>\n",
       "    </tr>\n",
       "    <tr>\n",
       "      <th>2018-01-04</th>\n",
       "      <td>24</td>\n",
       "      <td>15</td>\n",
       "      <td>0</td>\n",
       "      <td>13</td>\n",
       "      <td>7</td>\n",
       "    </tr>\n",
       "    <tr>\n",
       "      <th>2018-01-05</th>\n",
       "      <td>20</td>\n",
       "      <td>10</td>\n",
       "      <td>0</td>\n",
       "      <td>13</td>\n",
       "      <td>7</td>\n",
       "    </tr>\n",
       "  </tbody>\n",
       "</table>\n",
       "</div>"
      ]
     },
     "execution_count": 13,
     "metadata": {},
     "output_type": "execute_result"
    }
   ],
   "execution_count": 13
  },
  {
   "metadata": {
    "ExecuteTime": {
     "end_time": "2025-07-25T15:07:18.341448Z",
     "start_time": "2025-07-25T15:07:18.331436Z"
    }
   },
   "cell_type": "code",
   "source": [
    "temp_max = pd.DataFrame(index = bar.index)\n",
    "temp_max['Barcelona'] = bar['TempMax']\n",
    "temp_max['Rome'] = rom['TempMax']\n",
    "temp_max['Amsterdam'] = ams['TempMax']\n"
   ],
   "id": "6d7475119f539445",
   "outputs": [],
   "execution_count": 14
  },
  {
   "metadata": {
    "ExecuteTime": {
     "end_time": "2025-07-25T15:07:18.416482Z",
     "start_time": "2025-07-25T15:07:18.409439Z"
    }
   },
   "cell_type": "code",
   "source": [
    "def GradeDay(row):\n",
    "    if(row['TempMax'] >= row['AvgTempMax']):\n",
    "        return 'PLUS'\n",
    "    else:\n",
    "        return 'MINUS'"
   ],
   "id": "2c4f94093ed62daf",
   "outputs": [],
   "execution_count": 15
  },
  {
   "metadata": {
    "ExecuteTime": {
     "end_time": "2025-07-25T15:08:29.087920Z",
     "start_time": "2025-07-25T15:08:29.072963Z"
    }
   },
   "cell_type": "code",
   "source": [
    "rom['GradeDay'] = rom.apply(GradeDay, axis=1)\n",
    "bar['GradeDay'] = bar.apply(GradeDay, axis=1)\n",
    "ams['GradeDay'] = ams.apply(GradeDay, axis=1)"
   ],
   "id": "61872e975a0e1227",
   "outputs": [],
   "execution_count": 18
  },
  {
   "metadata": {
    "ExecuteTime": {
     "end_time": "2025-07-25T15:08:37.676726Z",
     "start_time": "2025-07-25T15:08:37.662724Z"
    }
   },
   "cell_type": "code",
   "source": "rom.head()",
   "id": "f037925c1a965aaf",
   "outputs": [
    {
     "data": {
      "text/plain": [
       "            TempMax  TempMin Rain  AvgTempMax  AvgTempMin GradeDay\n",
       "Date                                                              \n",
       "2018-01-01       14        8   0           12           4     PLUS\n",
       "2018-01-02       13        7   0           12           4     PLUS\n",
       "2018-01-03       14        1   0           12           4     PLUS\n",
       "2018-01-04       16        6   0           12           4     PLUS\n",
       "2018-01-05       17        7   0           12           3     PLUS"
      ],
      "text/html": [
       "<div>\n",
       "<style scoped>\n",
       "    .dataframe tbody tr th:only-of-type {\n",
       "        vertical-align: middle;\n",
       "    }\n",
       "\n",
       "    .dataframe tbody tr th {\n",
       "        vertical-align: top;\n",
       "    }\n",
       "\n",
       "    .dataframe thead th {\n",
       "        text-align: right;\n",
       "    }\n",
       "</style>\n",
       "<table border=\"1\" class=\"dataframe\">\n",
       "  <thead>\n",
       "    <tr style=\"text-align: right;\">\n",
       "      <th></th>\n",
       "      <th>TempMax</th>\n",
       "      <th>TempMin</th>\n",
       "      <th>Rain</th>\n",
       "      <th>AvgTempMax</th>\n",
       "      <th>AvgTempMin</th>\n",
       "      <th>GradeDay</th>\n",
       "    </tr>\n",
       "    <tr>\n",
       "      <th>Date</th>\n",
       "      <th></th>\n",
       "      <th></th>\n",
       "      <th></th>\n",
       "      <th></th>\n",
       "      <th></th>\n",
       "      <th></th>\n",
       "    </tr>\n",
       "  </thead>\n",
       "  <tbody>\n",
       "    <tr>\n",
       "      <th>2018-01-01</th>\n",
       "      <td>14</td>\n",
       "      <td>8</td>\n",
       "      <td>0</td>\n",
       "      <td>12</td>\n",
       "      <td>4</td>\n",
       "      <td>PLUS</td>\n",
       "    </tr>\n",
       "    <tr>\n",
       "      <th>2018-01-02</th>\n",
       "      <td>13</td>\n",
       "      <td>7</td>\n",
       "      <td>0</td>\n",
       "      <td>12</td>\n",
       "      <td>4</td>\n",
       "      <td>PLUS</td>\n",
       "    </tr>\n",
       "    <tr>\n",
       "      <th>2018-01-03</th>\n",
       "      <td>14</td>\n",
       "      <td>1</td>\n",
       "      <td>0</td>\n",
       "      <td>12</td>\n",
       "      <td>4</td>\n",
       "      <td>PLUS</td>\n",
       "    </tr>\n",
       "    <tr>\n",
       "      <th>2018-01-04</th>\n",
       "      <td>16</td>\n",
       "      <td>6</td>\n",
       "      <td>0</td>\n",
       "      <td>12</td>\n",
       "      <td>4</td>\n",
       "      <td>PLUS</td>\n",
       "    </tr>\n",
       "    <tr>\n",
       "      <th>2018-01-05</th>\n",
       "      <td>17</td>\n",
       "      <td>7</td>\n",
       "      <td>0</td>\n",
       "      <td>12</td>\n",
       "      <td>3</td>\n",
       "      <td>PLUS</td>\n",
       "    </tr>\n",
       "  </tbody>\n",
       "</table>\n",
       "</div>"
      ]
     },
     "execution_count": 19,
     "metadata": {},
     "output_type": "execute_result"
    }
   ],
   "execution_count": 19
  },
  {
   "metadata": {
    "ExecuteTime": {
     "end_time": "2025-07-25T15:43:56.682920Z",
     "start_time": "2025-07-25T15:43:56.662675Z"
    }
   },
   "cell_type": "code",
   "source": "rom['GradeDay'].value_counts()",
   "id": "d38dd40c2fdb7b07",
   "outputs": [
    {
     "data": {
      "text/plain": [
       "GradeDay\n",
       "PLUS     70\n",
       "MINUS    20\n",
       "Name: count, dtype: int64"
      ]
     },
     "execution_count": 20,
     "metadata": {},
     "output_type": "execute_result"
    }
   ],
   "execution_count": 20
  },
  {
   "metadata": {
    "ExecuteTime": {
     "end_time": "2025-07-25T15:46:13.246572Z",
     "start_time": "2025-07-25T15:46:13.240229Z"
    }
   },
   "cell_type": "code",
   "source": "cities3 = pd.DataFrame(index = ['MINUS', 'PLUS'])",
   "id": "4d7eb44c102efa13",
   "outputs": [],
   "execution_count": 23
  },
  {
   "metadata": {
    "ExecuteTime": {
     "end_time": "2025-07-25T15:46:15.666951Z",
     "start_time": "2025-07-25T15:46:15.648926Z"
    }
   },
   "cell_type": "code",
   "source": "cities3",
   "id": "c2a5f7bfe10eb98c",
   "outputs": [
    {
     "data": {
      "text/plain": [
       "Empty DataFrame\n",
       "Columns: []\n",
       "Index: [MINUS, PLUS]"
      ],
      "text/html": [
       "<div>\n",
       "<style scoped>\n",
       "    .dataframe tbody tr th:only-of-type {\n",
       "        vertical-align: middle;\n",
       "    }\n",
       "\n",
       "    .dataframe tbody tr th {\n",
       "        vertical-align: top;\n",
       "    }\n",
       "\n",
       "    .dataframe thead th {\n",
       "        text-align: right;\n",
       "    }\n",
       "</style>\n",
       "<table border=\"1\" class=\"dataframe\">\n",
       "  <thead>\n",
       "    <tr style=\"text-align: right;\">\n",
       "      <th></th>\n",
       "    </tr>\n",
       "  </thead>\n",
       "  <tbody>\n",
       "    <tr>\n",
       "      <th>MINUS</th>\n",
       "    </tr>\n",
       "    <tr>\n",
       "      <th>PLUS</th>\n",
       "    </tr>\n",
       "  </tbody>\n",
       "</table>\n",
       "</div>"
      ]
     },
     "execution_count": 24,
     "metadata": {},
     "output_type": "execute_result"
    }
   ],
   "execution_count": 24
  },
  {
   "metadata": {
    "ExecuteTime": {
     "end_time": "2025-07-25T15:52:50.468879Z",
     "start_time": "2025-07-25T15:52:50.451797Z"
    }
   },
   "cell_type": "code",
   "source": "cities3['Barcelona'] = bar['GradeDay'].value_counts()",
   "id": "7d26ef69309598e",
   "outputs": [],
   "execution_count": 25
  },
  {
   "metadata": {
    "ExecuteTime": {
     "end_time": "2025-07-25T15:53:00.752458Z",
     "start_time": "2025-07-25T15:53:00.737461Z"
    }
   },
   "cell_type": "code",
   "source": "cities3['Rome'] = rom['GradeDay'].value_counts()",
   "id": "d72b3222885a607d",
   "outputs": [],
   "execution_count": 26
  },
  {
   "metadata": {
    "ExecuteTime": {
     "end_time": "2025-07-25T15:53:11.122043Z",
     "start_time": "2025-07-25T15:53:11.110920Z"
    }
   },
   "cell_type": "code",
   "source": "cities3['Amsterdam'] = ams['GradeDay'].value_counts()",
   "id": "84852e7cbc379c70",
   "outputs": [],
   "execution_count": 27
  },
  {
   "metadata": {
    "ExecuteTime": {
     "end_time": "2025-07-25T15:53:28.417399Z",
     "start_time": "2025-07-25T15:53:28.398032Z"
    }
   },
   "cell_type": "code",
   "source": "cities3",
   "id": "59891e8cd28a94f2",
   "outputs": [
    {
     "data": {
      "text/plain": [
       "       Barcelona  Rome  Amsterdam\n",
       "MINUS         26    20         22\n",
       "PLUS          64    70         68"
      ],
      "text/html": [
       "<div>\n",
       "<style scoped>\n",
       "    .dataframe tbody tr th:only-of-type {\n",
       "        vertical-align: middle;\n",
       "    }\n",
       "\n",
       "    .dataframe tbody tr th {\n",
       "        vertical-align: top;\n",
       "    }\n",
       "\n",
       "    .dataframe thead th {\n",
       "        text-align: right;\n",
       "    }\n",
       "</style>\n",
       "<table border=\"1\" class=\"dataframe\">\n",
       "  <thead>\n",
       "    <tr style=\"text-align: right;\">\n",
       "      <th></th>\n",
       "      <th>Barcelona</th>\n",
       "      <th>Rome</th>\n",
       "      <th>Amsterdam</th>\n",
       "    </tr>\n",
       "  </thead>\n",
       "  <tbody>\n",
       "    <tr>\n",
       "      <th>MINUS</th>\n",
       "      <td>26</td>\n",
       "      <td>20</td>\n",
       "      <td>22</td>\n",
       "    </tr>\n",
       "    <tr>\n",
       "      <th>PLUS</th>\n",
       "      <td>64</td>\n",
       "      <td>70</td>\n",
       "      <td>68</td>\n",
       "    </tr>\n",
       "  </tbody>\n",
       "</table>\n",
       "</div>"
      ]
     },
     "execution_count": 28,
     "metadata": {},
     "output_type": "execute_result"
    }
   ],
   "execution_count": 28
  },
  {
   "metadata": {
    "ExecuteTime": {
     "end_time": "2025-07-25T16:20:14.864782Z",
     "start_time": "2025-07-25T16:20:14.737072Z"
    }
   },
   "cell_type": "code",
   "source": "cities3.plot(kind='pie',subplots = True, figsize = (15,5),colors= ['r','b'], labels = ['Colder', 'Warmer'])",
   "id": "eed63064b233b5f6",
   "outputs": [
    {
     "data": {
      "text/plain": [
       "array([<Axes: ylabel='Barcelona'>, <Axes: ylabel='Rome'>,\n",
       "       <Axes: ylabel='Amsterdam'>], dtype=object)"
      ]
     },
     "execution_count": 42,
     "metadata": {},
     "output_type": "execute_result"
    },
    {
     "data": {
      "text/plain": [
       "<Figure size 1500x500 with 3 Axes>"
      ],
      "image/png": "[encoded data removed]"
     },
     "metadata": {},
     "output_type": "display_data"
    }
   ],
   "execution_count": 42
  },
  {
   "metadata": {
    "ExecuteTime": {
     "end_time": "2025-07-25T16:20:29.209236Z",
     "start_time": "2025-07-25T16:20:29.056185Z"
    }
   },
   "cell_type": "code",
   "source": "cities3.plot(kind='pie',subplots = True, figsize = (15,5),colors= ['r','b'], labels = ['Colder', 'Warmer'])",
   "id": "4af9c94d1fa8f152",
   "outputs": [
    {
     "data": {
      "text/plain": [
       "array([<Axes: ylabel='Barcelona'>, <Axes: ylabel='Rome'>,\n",
       "       <Axes: ylabel='Amsterdam'>], dtype=object)"
      ]
     },
     "execution_count": 43,
     "metadata": {},
     "output_type": "execute_result"
    },
    {
     "data": {
      "text/plain": [
       "<Figure size 1500x500 with 3 Axes>"
      ],
      "image/png": "[encoded data removed]"
     },
     "metadata": {},
     "output_type": "display_data"
    }
   ],
   "execution_count": 43
  },
  {
   "metadata": {},
   "cell_type": "code",
   "outputs": [],
   "execution_count": null,
   "source": "",
   "id": "eea6bf3e379007b1"
  }
 ],
 "metadata": {
  "kernelspec": {
   "display_name": "Python 3",
   "language": "python",
   "name": "python3"
  },
  "language_info": {
   "codemirror_mode": {
    "name": "ipython",
    "version": 2
   },
   "file_extension": ".py",
   "mimetype": "text/x-python",
   "name": "python",
   "nbconvert_exporter": "python",
   "pygments_lexer": "ipython2",
   "version": "2.7.6"
  }
 },
 "nbformat": 4,
 "nbformat_minor": 5
}
