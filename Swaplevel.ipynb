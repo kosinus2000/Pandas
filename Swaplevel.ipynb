{
 "cells": [
  {
   "cell_type": "code",
   "id": "initial_id",
   "metadata": {
    "collapsed": true,
    "ExecuteTime": {
     "end_time": "2025-07-14T15:11:29.853779Z",
     "start_time": "2025-07-14T15:11:28.662298Z"
    }
   },
   "source": [
    "import pandas as pd\n",
    "import numpy as np"
   ],
   "outputs": [],
   "execution_count": 1
  },
  {
   "metadata": {
    "ExecuteTime": {
     "end_time": "2025-07-14T15:11:30.923442Z",
     "start_time": "2025-07-14T15:11:30.887101Z"
    }
   },
   "cell_type": "code",
   "source": [
    "incidents = pd.read_csv(\"C:\\\\Users\\\\huber_15ivafg\\\\Documents\\\\Pandas kurs materiały\\\\course-files\\\\Canadian Railway Crossing Incidents.csv\")\n",
    "incidents.set_index(['Region','EventType'],inplace = True)\n",
    "incidents.sort_index(inplace = True)"
   ],
   "id": "7b8c850dae0826e2",
   "outputs": [],
   "execution_count": 2
  },
  {
   "metadata": {
    "ExecuteTime": {
     "end_time": "2025-07-14T15:11:30.984843Z",
     "start_time": "2025-07-14T15:11:30.975289Z"
    }
   },
   "cell_type": "code",
   "source": "",
   "id": "92fa03c1bd0d7b4c",
   "outputs": [],
   "execution_count": null
  }
 ],
 "metadata": {
  "kernelspec": {
   "display_name": "Python 3",
   "language": "python",
   "name": "python3"
  },
  "language_info": {
   "codemirror_mode": {
    "name": "ipython",
    "version": 2
   },
   "file_extension": ".py",
   "mimetype": "text/x-python",
   "name": "python",
   "nbconvert_exporter": "python",
   "pygments_lexer": "ipython2",
   "version": "2.7.6"
  }
 },
 "nbformat": 4,
 "nbformat_minor": 5
}
