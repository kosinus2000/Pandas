{
 "cells": [
  {
   "cell_type": "code",
   "id": "initial_id",
   "metadata": {
    "collapsed": true,
    "ExecuteTime": {
     "end_time": "2025-07-08T10:50:04.550150Z",
     "start_time": "2025-07-08T10:49:57.553426Z"
    }
   },
   "source": [
    "import pandas as pd\n",
    "import numpy as np\n",
    "import matplotlib.pyplot as plt\n",
    "import math as math\n",
    "frame = pd.read_csv(\"C:\\\\Users\\\\huber_15ivafg\\\\Documents\\\\Pandas kurs materiały\\\\course-files\\\\Mcdonalds.csv\", usecols=[\"Item\", \"Category\",\"Serving Size\",\"Calories\",\"TotalFat\"])"
   ],
   "outputs": [],
   "execution_count": 1
  },
  {
   "metadata": {},
   "cell_type": "code",
   "outputs": [],
   "execution_count": null,
   "source": [
    "color = ['green','green', 'blue', 'blue', 'red', 'red', 'white']\n",
    "size = ['S','S','S','M','M', 'M', 'L']\n",
    "gender = ['M', 'W', 'M','W','M','W','U']\n",
    "clothes = pd.DataFrame({'color':color,'size':size,'gender':gender})\n",
    "clothes\n"
   ],
   "id": "3c58c589119ef435"
  }
 ],
 "metadata": {
  "kernelspec": {
   "display_name": "Python 3",
   "language": "python",
   "name": "python3"
  },
  "language_info": {
   "codemirror_mode": {
    "name": "ipython",
    "version": 2
   },
   "file_extension": ".py",
   "mimetype": "text/x-python",
   "name": "python",
   "nbconvert_exporter": "python",
   "pygments_lexer": "ipython2",
   "version": "2.7.6"
  }
 },
 "nbformat": 4,
 "nbformat_minor": 5
}
