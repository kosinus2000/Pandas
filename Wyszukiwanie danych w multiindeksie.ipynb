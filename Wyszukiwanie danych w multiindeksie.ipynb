{
 "cells": [
  {
   "cell_type": "code",
   "id": "initial_id",
   "metadata": {
    "collapsed": true,
    "ExecuteTime": {
     "end_time": "2025-07-14T12:39:29.049026Z",
     "start_time": "2025-07-14T12:39:25.583881Z"
    }
   },
   "source": [
    "import pandas as pd\n",
    "import numpy as np\n",
    "incidents = pd.read_csv(\"C:\\\\Users\\\\huber_15ivafg\\\\Documents\\\\Pandas kurs materiały\\\\course-files\\\\Canadian Railway Crossing Incidents.csv\")"
   ],
   "outputs": [],
   "execution_count": 1
  },
  {
   "metadata": {
    "ExecuteTime": {
     "end_time": "2025-07-14T12:41:29.631523Z",
     "start_time": "2025-07-14T12:41:29.616369Z"
    }
   },
   "cell_type": "code",
   "source": [
    "incidents.set_index(keys = ['Region',\"EventType\"], inplace = True)\n",
    "incidents.sort_index(inplace = True)"
   ],
   "id": "121cc4de361245a1",
   "outputs": [],
   "execution_count": 3
  },
  {
   "metadata": {
    "ExecuteTime": {
     "end_time": "2025-07-14T12:41:31.119915Z",
     "start_time": "2025-07-14T12:41:31.096292Z"
    }
   },
   "cell_type": "code",
   "source": "incidents.head(10)",
   "id": "59942c2fea7e0a40",
   "outputs": [
    {
     "data": {
      "text/plain": [
       "                                   Public automated  Public passive  Private  \\\n",
       "Region           EventType                                                     \n",
       "Alberta          Accidents                        3               7        2   \n",
       "                 Fatalities                       0               0        0   \n",
       "                 Serious injuries                 0               1        2   \n",
       "British Columbia Accidents                        4               1        0   \n",
       "                 Fatalities                       0               0        0   \n",
       "                 Serious injuries                 3               0        0   \n",
       "Manitoba         Accidents                        1               3        0   \n",
       "                 Fatalities                       0               1        0   \n",
       "                 Serious injuries                 0               0        0   \n",
       "New Brunswick    Accidents                        0               0        0   \n",
       "\n",
       "                                   Farm  \n",
       "Region           EventType               \n",
       "Alberta          Accidents            0  \n",
       "                 Fatalities           0  \n",
       "                 Serious injuries     0  \n",
       "British Columbia Accidents            0  \n",
       "                 Fatalities           0  \n",
       "                 Serious injuries     0  \n",
       "Manitoba         Accidents            2  \n",
       "                 Fatalities           0  \n",
       "                 Serious injuries     1  \n",
       "New Brunswick    Accidents            0  "
      ],
      "text/html": [
       "<div>\n",
       "<style scoped>\n",
       "    .dataframe tbody tr th:only-of-type {\n",
       "        vertical-align: middle;\n",
       "    }\n",
       "\n",
       "    .dataframe tbody tr th {\n",
       "        vertical-align: top;\n",
       "    }\n",
       "\n",
       "    .dataframe thead th {\n",
       "        text-align: right;\n",
       "    }\n",
       "</style>\n",
       "<table border=\"1\" class=\"dataframe\">\n",
       "  <thead>\n",
       "    <tr style=\"text-align: right;\">\n",
       "      <th></th>\n",
       "      <th></th>\n",
       "      <th>Public automated</th>\n",
       "      <th>Public passive</th>\n",
       "      <th>Private</th>\n",
       "      <th>Farm</th>\n",
       "    </tr>\n",
       "    <tr>\n",
       "      <th>Region</th>\n",
       "      <th>EventType</th>\n",
       "      <th></th>\n",
       "      <th></th>\n",
       "      <th></th>\n",
       "      <th></th>\n",
       "    </tr>\n",
       "  </thead>\n",
       "  <tbody>\n",
       "    <tr>\n",
       "      <th rowspan=\"3\" valign=\"top\">Alberta</th>\n",
       "      <th>Accidents</th>\n",
       "      <td>3</td>\n",
       "      <td>7</td>\n",
       "      <td>2</td>\n",
       "      <td>0</td>\n",
       "    </tr>\n",
       "    <tr>\n",
       "      <th>Fatalities</th>\n",
       "      <td>0</td>\n",
       "      <td>0</td>\n",
       "      <td>0</td>\n",
       "      <td>0</td>\n",
       "    </tr>\n",
       "    <tr>\n",
       "      <th>Serious injuries</th>\n",
       "      <td>0</td>\n",
       "      <td>1</td>\n",
       "      <td>2</td>\n",
       "      <td>0</td>\n",
       "    </tr>\n",
       "    <tr>\n",
       "      <th rowspan=\"3\" valign=\"top\">British Columbia</th>\n",
       "      <th>Accidents</th>\n",
       "      <td>4</td>\n",
       "      <td>1</td>\n",
       "      <td>0</td>\n",
       "      <td>0</td>\n",
       "    </tr>\n",
       "    <tr>\n",
       "      <th>Fatalities</th>\n",
       "      <td>0</td>\n",
       "      <td>0</td>\n",
       "      <td>0</td>\n",
       "      <td>0</td>\n",
       "    </tr>\n",
       "    <tr>\n",
       "      <th>Serious injuries</th>\n",
       "      <td>3</td>\n",
       "      <td>0</td>\n",
       "      <td>0</td>\n",
       "      <td>0</td>\n",
       "    </tr>\n",
       "    <tr>\n",
       "      <th rowspan=\"3\" valign=\"top\">Manitoba</th>\n",
       "      <th>Accidents</th>\n",
       "      <td>1</td>\n",
       "      <td>3</td>\n",
       "      <td>0</td>\n",
       "      <td>2</td>\n",
       "    </tr>\n",
       "    <tr>\n",
       "      <th>Fatalities</th>\n",
       "      <td>0</td>\n",
       "      <td>1</td>\n",
       "      <td>0</td>\n",
       "      <td>0</td>\n",
       "    </tr>\n",
       "    <tr>\n",
       "      <th>Serious injuries</th>\n",
       "      <td>0</td>\n",
       "      <td>0</td>\n",
       "      <td>0</td>\n",
       "      <td>1</td>\n",
       "    </tr>\n",
       "    <tr>\n",
       "      <th>New Brunswick</th>\n",
       "      <th>Accidents</th>\n",
       "      <td>0</td>\n",
       "      <td>0</td>\n",
       "      <td>0</td>\n",
       "      <td>0</td>\n",
       "    </tr>\n",
       "  </tbody>\n",
       "</table>\n",
       "</div>"
      ]
     },
     "execution_count": 4,
     "metadata": {},
     "output_type": "execute_result"
    }
   ],
   "execution_count": 4
  },
  {
   "metadata": {
    "ExecuteTime": {
     "end_time": "2025-07-14T12:46:09.845450Z",
     "start_time": "2025-07-14T12:46:09.828368Z"
    }
   },
   "cell_type": "code",
   "source": "incidents.loc[(\"Alberta\",\"Accidents\")]",
   "id": "aaee1e01e04fc509",
   "outputs": [
    {
     "data": {
      "text/plain": [
       "Public automated    3\n",
       "Public passive      7\n",
       "Private             2\n",
       "Farm                0\n",
       "Name: (Alberta, Accidents), dtype: int64"
      ]
     },
     "execution_count": 7,
     "metadata": {},
     "output_type": "execute_result"
    }
   ],
   "execution_count": 7
  },
  {
   "metadata": {
    "ExecuteTime": {
     "end_time": "2025-07-14T13:05:06.805785Z",
     "start_time": "2025-07-14T13:05:06.774370Z"
    }
   },
   "cell_type": "code",
   "source": "incidents.head()",
   "id": "7d6649f536dbbd78",
   "outputs": [
    {
     "data": {
      "text/plain": [
       "                                   Public automated  Public passive  Private  \\\n",
       "Region           EventType                                                     \n",
       "Alberta          Accidents                        3               7        2   \n",
       "                 Fatalities                       0               0        0   \n",
       "                 Serious injuries                 0               1        2   \n",
       "British Columbia Accidents                        4               1        0   \n",
       "                 Fatalities                       0               0        0   \n",
       "\n",
       "                                   Farm  \n",
       "Region           EventType               \n",
       "Alberta          Accidents            0  \n",
       "                 Fatalities           0  \n",
       "                 Serious injuries     0  \n",
       "British Columbia Accidents            0  \n",
       "                 Fatalities           0  "
      ],
      "text/html": [
       "<div>\n",
       "<style scoped>\n",
       "    .dataframe tbody tr th:only-of-type {\n",
       "        vertical-align: middle;\n",
       "    }\n",
       "\n",
       "    .dataframe tbody tr th {\n",
       "        vertical-align: top;\n",
       "    }\n",
       "\n",
       "    .dataframe thead th {\n",
       "        text-align: right;\n",
       "    }\n",
       "</style>\n",
       "<table border=\"1\" class=\"dataframe\">\n",
       "  <thead>\n",
       "    <tr style=\"text-align: right;\">\n",
       "      <th></th>\n",
       "      <th></th>\n",
       "      <th>Public automated</th>\n",
       "      <th>Public passive</th>\n",
       "      <th>Private</th>\n",
       "      <th>Farm</th>\n",
       "    </tr>\n",
       "    <tr>\n",
       "      <th>Region</th>\n",
       "      <th>EventType</th>\n",
       "      <th></th>\n",
       "      <th></th>\n",
       "      <th></th>\n",
       "      <th></th>\n",
       "    </tr>\n",
       "  </thead>\n",
       "  <tbody>\n",
       "    <tr>\n",
       "      <th rowspan=\"3\" valign=\"top\">Alberta</th>\n",
       "      <th>Accidents</th>\n",
       "      <td>3</td>\n",
       "      <td>7</td>\n",
       "      <td>2</td>\n",
       "      <td>0</td>\n",
       "    </tr>\n",
       "    <tr>\n",
       "      <th>Fatalities</th>\n",
       "      <td>0</td>\n",
       "      <td>0</td>\n",
       "      <td>0</td>\n",
       "      <td>0</td>\n",
       "    </tr>\n",
       "    <tr>\n",
       "      <th>Serious injuries</th>\n",
       "      <td>0</td>\n",
       "      <td>1</td>\n",
       "      <td>2</td>\n",
       "      <td>0</td>\n",
       "    </tr>\n",
       "    <tr>\n",
       "      <th rowspan=\"2\" valign=\"top\">British Columbia</th>\n",
       "      <th>Accidents</th>\n",
       "      <td>4</td>\n",
       "      <td>1</td>\n",
       "      <td>0</td>\n",
       "      <td>0</td>\n",
       "    </tr>\n",
       "    <tr>\n",
       "      <th>Fatalities</th>\n",
       "      <td>0</td>\n",
       "      <td>0</td>\n",
       "      <td>0</td>\n",
       "      <td>0</td>\n",
       "    </tr>\n",
       "  </tbody>\n",
       "</table>\n",
       "</div>"
      ]
     },
     "execution_count": 8,
     "metadata": {},
     "output_type": "execute_result"
    }
   ],
   "execution_count": 8
  },
  {
   "metadata": {
    "ExecuteTime": {
     "end_time": "2025-07-14T13:07:18.963857Z",
     "start_time": "2025-07-14T13:07:18.940698Z"
    }
   },
   "cell_type": "code",
   "source": "incidents.iloc[2]",
   "id": "50637fb2260313ee",
   "outputs": [
    {
     "data": {
      "text/plain": [
       "Public automated    0\n",
       "Public passive      1\n",
       "Private             2\n",
       "Farm                0\n",
       "Name: (Alberta, Serious injuries), dtype: int64"
      ]
     },
     "execution_count": 9,
     "metadata": {},
     "output_type": "execute_result"
    }
   ],
   "execution_count": 9
  },
  {
   "metadata": {},
   "cell_type": "code",
   "outputs": [],
   "execution_count": null,
   "source": "",
   "id": "cc4c6dee2f2a14d3"
  }
 ],
 "metadata": {
  "kernelspec": {
   "display_name": "Python 3",
   "language": "python",
   "name": "python3"
  },
  "language_info": {
   "codemirror_mode": {
    "name": "ipython",
    "version": 2
   },
   "file_extension": ".py",
   "mimetype": "text/x-python",
   "name": "python",
   "nbconvert_exporter": "python",
   "pygments_lexer": "ipython2",
   "version": "2.7.6"
  }
 },
 "nbformat": 4,
 "nbformat_minor": 5
}
