{
 "cells": [
  {
   "cell_type": "code",
   "id": "initial_id",
   "metadata": {
    "collapsed": true,
    "ExecuteTime": {
     "end_time": "2025-07-14T17:00:51.369717Z",
     "start_time": "2025-07-14T17:00:48.293701Z"
    }
   },
   "source": [
    "import pandas as pd\n",
    "import numpy as np"
   ],
   "outputs": [],
   "execution_count": 1
  },
  {
   "metadata": {
    "ExecuteTime": {
     "end_time": "2025-07-14T17:00:51.429931Z",
     "start_time": "2025-07-14T17:00:51.393864Z"
    }
   },
   "cell_type": "code",
   "source": [
    "incidents = pd.read_csv(\"C:\\\\Users\\\\huber_15ivafg\\\\Documents\\\\Pandas kurs materiały\\\\course-files\\\\Canadian Railway Crossing Incidents.csv\")\n",
    "incidents.set_index(['Region','EventType'],inplace = True)\n",
    "incidents.sort_index(inplace = True)"
   ],
   "id": "eb4ac6016de60d9d",
   "outputs": [],
   "execution_count": 2
  },
  {
   "metadata": {
    "ExecuteTime": {
     "end_time": "2025-07-14T17:00:58.642355Z",
     "start_time": "2025-07-14T17:00:58.625767Z"
    }
   },
   "cell_type": "code",
   "source": "incidents.head(10)",
   "id": "d557b2768e51e514",
   "outputs": [
    {
     "data": {
      "text/plain": [
       "                                   Public automated  Public passive  Private  \\\n",
       "Region           EventType                                                     \n",
       "Alberta          Accidents                        3               7        2   \n",
       "                 Fatalities                       0               0        0   \n",
       "                 Serious injuries                 0               1        2   \n",
       "British Columbia Accidents                        4               1        0   \n",
       "                 Fatalities                       0               0        0   \n",
       "                 Serious injuries                 3               0        0   \n",
       "Manitoba         Accidents                        1               3        0   \n",
       "                 Fatalities                       0               1        0   \n",
       "                 Serious injuries                 0               0        0   \n",
       "New Brunswick    Accidents                        0               0        0   \n",
       "\n",
       "                                   Farm  \n",
       "Region           EventType               \n",
       "Alberta          Accidents            0  \n",
       "                 Fatalities           0  \n",
       "                 Serious injuries     0  \n",
       "British Columbia Accidents            0  \n",
       "                 Fatalities           0  \n",
       "                 Serious injuries     0  \n",
       "Manitoba         Accidents            2  \n",
       "                 Fatalities           0  \n",
       "                 Serious injuries     1  \n",
       "New Brunswick    Accidents            0  "
      ],
      "text/html": [
       "<div>\n",
       "<style scoped>\n",
       "    .dataframe tbody tr th:only-of-type {\n",
       "        vertical-align: middle;\n",
       "    }\n",
       "\n",
       "    .dataframe tbody tr th {\n",
       "        vertical-align: top;\n",
       "    }\n",
       "\n",
       "    .dataframe thead th {\n",
       "        text-align: right;\n",
       "    }\n",
       "</style>\n",
       "<table border=\"1\" class=\"dataframe\">\n",
       "  <thead>\n",
       "    <tr style=\"text-align: right;\">\n",
       "      <th></th>\n",
       "      <th></th>\n",
       "      <th>Public automated</th>\n",
       "      <th>Public passive</th>\n",
       "      <th>Private</th>\n",
       "      <th>Farm</th>\n",
       "    </tr>\n",
       "    <tr>\n",
       "      <th>Region</th>\n",
       "      <th>EventType</th>\n",
       "      <th></th>\n",
       "      <th></th>\n",
       "      <th></th>\n",
       "      <th></th>\n",
       "    </tr>\n",
       "  </thead>\n",
       "  <tbody>\n",
       "    <tr>\n",
       "      <th rowspan=\"3\" valign=\"top\">Alberta</th>\n",
       "      <th>Accidents</th>\n",
       "      <td>3</td>\n",
       "      <td>7</td>\n",
       "      <td>2</td>\n",
       "      <td>0</td>\n",
       "    </tr>\n",
       "    <tr>\n",
       "      <th>Fatalities</th>\n",
       "      <td>0</td>\n",
       "      <td>0</td>\n",
       "      <td>0</td>\n",
       "      <td>0</td>\n",
       "    </tr>\n",
       "    <tr>\n",
       "      <th>Serious injuries</th>\n",
       "      <td>0</td>\n",
       "      <td>1</td>\n",
       "      <td>2</td>\n",
       "      <td>0</td>\n",
       "    </tr>\n",
       "    <tr>\n",
       "      <th rowspan=\"3\" valign=\"top\">British Columbia</th>\n",
       "      <th>Accidents</th>\n",
       "      <td>4</td>\n",
       "      <td>1</td>\n",
       "      <td>0</td>\n",
       "      <td>0</td>\n",
       "    </tr>\n",
       "    <tr>\n",
       "      <th>Fatalities</th>\n",
       "      <td>0</td>\n",
       "      <td>0</td>\n",
       "      <td>0</td>\n",
       "      <td>0</td>\n",
       "    </tr>\n",
       "    <tr>\n",
       "      <th>Serious injuries</th>\n",
       "      <td>3</td>\n",
       "      <td>0</td>\n",
       "      <td>0</td>\n",
       "      <td>0</td>\n",
       "    </tr>\n",
       "    <tr>\n",
       "      <th rowspan=\"3\" valign=\"top\">Manitoba</th>\n",
       "      <th>Accidents</th>\n",
       "      <td>1</td>\n",
       "      <td>3</td>\n",
       "      <td>0</td>\n",
       "      <td>2</td>\n",
       "    </tr>\n",
       "    <tr>\n",
       "      <th>Fatalities</th>\n",
       "      <td>0</td>\n",
       "      <td>1</td>\n",
       "      <td>0</td>\n",
       "      <td>0</td>\n",
       "    </tr>\n",
       "    <tr>\n",
       "      <th>Serious injuries</th>\n",
       "      <td>0</td>\n",
       "      <td>0</td>\n",
       "      <td>0</td>\n",
       "      <td>1</td>\n",
       "    </tr>\n",
       "    <tr>\n",
       "      <th>New Brunswick</th>\n",
       "      <th>Accidents</th>\n",
       "      <td>0</td>\n",
       "      <td>0</td>\n",
       "      <td>0</td>\n",
       "      <td>0</td>\n",
       "    </tr>\n",
       "  </tbody>\n",
       "</table>\n",
       "</div>"
      ]
     },
     "execution_count": 4,
     "metadata": {},
     "output_type": "execute_result"
    }
   ],
   "execution_count": 4
  },
  {
   "metadata": {
    "ExecuteTime": {
     "end_time": "2025-07-14T20:12:39.217882Z",
     "start_time": "2025-07-14T20:12:39.204195Z"
    }
   },
   "cell_type": "code",
   "source": "incidents.stack().head(40)",
   "id": "3c0210f8f0d581d",
   "outputs": [
    {
     "data": {
      "text/plain": [
       "Region            EventType                         \n",
       "Alberta           Accidents         Public automated    3\n",
       "                                    Public passive      7\n",
       "                                    Private             2\n",
       "                                    Farm                0\n",
       "                  Fatalities        Public automated    0\n",
       "                                    Public passive      0\n",
       "                                    Private             0\n",
       "                                    Farm                0\n",
       "                  Serious injuries  Public automated    0\n",
       "                                    Public passive      1\n",
       "                                    Private             2\n",
       "                                    Farm                0\n",
       "British Columbia  Accidents         Public automated    4\n",
       "                                    Public passive      1\n",
       "                                    Private             0\n",
       "                                    Farm                0\n",
       "                  Fatalities        Public automated    0\n",
       "                                    Public passive      0\n",
       "                                    Private             0\n",
       "                                    Farm                0\n",
       "                  Serious injuries  Public automated    3\n",
       "                                    Public passive      0\n",
       "                                    Private             0\n",
       "                                    Farm                0\n",
       "Manitoba          Accidents         Public automated    1\n",
       "                                    Public passive      3\n",
       "                                    Private             0\n",
       "                                    Farm                2\n",
       "                  Fatalities        Public automated    0\n",
       "                                    Public passive      1\n",
       "                                    Private             0\n",
       "                                    Farm                0\n",
       "                  Serious injuries  Public automated    0\n",
       "                                    Public passive      0\n",
       "                                    Private             0\n",
       "                                    Farm                1\n",
       "New Brunswick     Accidents         Public automated    0\n",
       "                                    Public passive      0\n",
       "                                    Private             0\n",
       "                                    Farm                0\n",
       "dtype: int64"
      ]
     },
     "execution_count": 6,
     "metadata": {},
     "output_type": "execute_result"
    }
   ],
   "execution_count": 6
  },
  {
   "metadata": {},
   "cell_type": "code",
   "outputs": [],
   "execution_count": null,
   "source": "inc",
   "id": "40b61b4d7cb165c5"
  }
 ],
 "metadata": {
  "kernelspec": {
   "display_name": "Python 3",
   "language": "python",
   "name": "python3"
  },
  "language_info": {
   "codemirror_mode": {
    "name": "ipython",
    "version": 2
   },
   "file_extension": ".py",
   "mimetype": "text/x-python",
   "name": "python",
   "nbconvert_exporter": "python",
   "pygments_lexer": "ipython2",
   "version": "2.7.6"
  }
 },
 "nbformat": 4,
 "nbformat_minor": 5
}
