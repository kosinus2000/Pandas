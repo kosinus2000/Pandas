{
 "cells": [
  {
   "cell_type": "code",
   "id": "initial_id",
   "metadata": {
    "collapsed": true,
    "ExecuteTime": {
     "end_time": "2025-06-30T22:11:44.611684Z",
     "start_time": "2025-06-30T22:11:39.971364Z"
    }
   },
   "source": [
    "import pandas as pd\n",
    "import numpy as np\n",
    "import matplotlib.pyplot as plt\n",
    "import math"
   ],
   "outputs": [],
   "execution_count": 1
  },
  {
   "metadata": {
    "ExecuteTime": {
     "end_time": "2025-06-30T22:14:34.355046Z",
     "start_time": "2025-06-30T22:14:34.252245Z"
    }
   },
   "cell_type": "code",
   "source": [
    "fuel = pd.read_csv(\"C:\\\\Users\\\\huber_15ivafg\\\\Documents\\\\Pandas kurs materiały\\\\course-files\\\\fuel.csv\", low_memory=False, usecols=[ 'Vehicle ID','Year','Make','Model','Class','Fuel Type', 'Combined MPG (FT1)'], index_col='Vehicle ID')\n",
    "fuel.head()"
   ],
   "id": "8276892a9ceed77c",
   "outputs": [
    {
     "data": {
      "text/plain": [
       "            Year        Make               Model                        Class  \\\n",
       "Vehicle ID                                                                      \n",
       "26587       1984  Alfa Romeo           GT V6 2.5             Minicompact Cars   \n",
       "27705       1984  Alfa Romeo           GT V6 2.5             Minicompact Cars   \n",
       "26561       1984  Alfa Romeo  Spider Veloce 2000                  Two Seaters   \n",
       "27681       1984  Alfa Romeo  Spider Veloce 2000                  Two Seaters   \n",
       "27550       1984  AM General   DJ Po Vehicle 2WD  Special Purpose Vehicle 2WD   \n",
       "\n",
       "           Fuel Type  Combined MPG (FT1)  \n",
       "Vehicle ID                                \n",
       "26587        Regular                20.0  \n",
       "27705        Regular                20.0  \n",
       "26561        Regular                21.0  \n",
       "27681        Regular                21.0  \n",
       "27550        Regular                17.0  "
      ],
      "text/html": [
       "<div>\n",
       "<style scoped>\n",
       "    .dataframe tbody tr th:only-of-type {\n",
       "        vertical-align: middle;\n",
       "    }\n",
       "\n",
       "    .dataframe tbody tr th {\n",
       "        vertical-align: top;\n",
       "    }\n",
       "\n",
       "    .dataframe thead th {\n",
       "        text-align: right;\n",
       "    }\n",
       "</style>\n",
       "<table border=\"1\" class=\"dataframe\">\n",
       "  <thead>\n",
       "    <tr style=\"text-align: right;\">\n",
       "      <th></th>\n",
       "      <th>Year</th>\n",
       "      <th>Make</th>\n",
       "      <th>Model</th>\n",
       "      <th>Class</th>\n",
       "      <th>Fuel Type</th>\n",
       "      <th>Combined MPG (FT1)</th>\n",
       "    </tr>\n",
       "    <tr>\n",
       "      <th>Vehicle ID</th>\n",
       "      <th></th>\n",
       "      <th></th>\n",
       "      <th></th>\n",
       "      <th></th>\n",
       "      <th></th>\n",
       "      <th></th>\n",
       "    </tr>\n",
       "  </thead>\n",
       "  <tbody>\n",
       "    <tr>\n",
       "      <th>26587</th>\n",
       "      <td>1984</td>\n",
       "      <td>Alfa Romeo</td>\n",
       "      <td>GT V6 2.5</td>\n",
       "      <td>Minicompact Cars</td>\n",
       "      <td>Regular</td>\n",
       "      <td>20.0</td>\n",
       "    </tr>\n",
       "    <tr>\n",
       "      <th>27705</th>\n",
       "      <td>1984</td>\n",
       "      <td>Alfa Romeo</td>\n",
       "      <td>GT V6 2.5</td>\n",
       "      <td>Minicompact Cars</td>\n",
       "      <td>Regular</td>\n",
       "      <td>20.0</td>\n",
       "    </tr>\n",
       "    <tr>\n",
       "      <th>26561</th>\n",
       "      <td>1984</td>\n",
       "      <td>Alfa Romeo</td>\n",
       "      <td>Spider Veloce 2000</td>\n",
       "      <td>Two Seaters</td>\n",
       "      <td>Regular</td>\n",
       "      <td>21.0</td>\n",
       "    </tr>\n",
       "    <tr>\n",
       "      <th>27681</th>\n",
       "      <td>1984</td>\n",
       "      <td>Alfa Romeo</td>\n",
       "      <td>Spider Veloce 2000</td>\n",
       "      <td>Two Seaters</td>\n",
       "      <td>Regular</td>\n",
       "      <td>21.0</td>\n",
       "    </tr>\n",
       "    <tr>\n",
       "      <th>27550</th>\n",
       "      <td>1984</td>\n",
       "      <td>AM General</td>\n",
       "      <td>DJ Po Vehicle 2WD</td>\n",
       "      <td>Special Purpose Vehicle 2WD</td>\n",
       "      <td>Regular</td>\n",
       "      <td>17.0</td>\n",
       "    </tr>\n",
       "  </tbody>\n",
       "</table>\n",
       "</div>"
      ]
     },
     "execution_count": 5,
     "metadata": {},
     "output_type": "execute_result"
    }
   ],
   "execution_count": 5
  },
  {
   "metadata": {
    "ExecuteTime": {
     "end_time": "2025-06-30T22:15:25.105959Z",
     "start_time": "2025-06-30T22:15:25.096050Z"
    }
   },
   "cell_type": "code",
   "source": "fuel['Make'].head()",
   "id": "2c0b056c9495e9ba",
   "outputs": [
    {
     "data": {
      "text/plain": [
       "Vehicle ID\n",
       "26587    Alfa Romeo\n",
       "27705    Alfa Romeo\n",
       "26561    Alfa Romeo\n",
       "27681    Alfa Romeo\n",
       "27550    AM General\n",
       "Name: Make, dtype: object"
      ]
     },
     "execution_count": 7,
     "metadata": {},
     "output_type": "execute_result"
    }
   ],
   "execution_count": 7
  },
  {
   "metadata": {
    "ExecuteTime": {
     "end_time": "2025-06-30T22:15:56.082904Z",
     "start_time": "2025-06-30T22:15:56.076867Z"
    }
   },
   "cell_type": "code",
   "source": "",
   "id": "31548c89bd144492",
   "outputs": [
    {
     "data": {
      "text/plain": [
       "pandas.core.series.Series"
      ]
     },
     "execution_count": 8,
     "metadata": {},
     "output_type": "execute_result"
    }
   ],
   "execution_count": 8
  },
  {
   "metadata": {
    "ExecuteTime": {
     "end_time": "2025-06-30T22:42:54.500026Z",
     "start_time": "2025-06-30T22:42:54.479025Z"
    }
   },
   "cell_type": "code",
   "source": "fuel['Make'].value_counts().head()",
   "id": "a79fcd0806f07b32",
   "outputs": [
    {
     "data": {
      "text/plain": [
       "Make\n",
       "Chevrolet    3389\n",
       "Ford         2721\n",
       "Dodge        2361\n",
       "GMC          2174\n",
       "Toyota       1599\n",
       "Name: count, dtype: int64"
      ]
     },
     "execution_count": 11,
     "metadata": {},
     "output_type": "execute_result"
    }
   ],
   "execution_count": 11
  },
  {
   "metadata": {
    "ExecuteTime": {
     "end_time": "2025-06-30T22:46:35.309855Z",
     "start_time": "2025-06-30T22:46:35.300552Z"
    }
   },
   "cell_type": "code",
   "source": "fuel.loc[1873]",
   "id": "a48056b1587090d6",
   "outputs": [
    {
     "data": {
      "text/plain": [
       "Year                             1986\n",
       "Make                       Mitsubishi\n",
       "Model                         Starion\n",
       "Class                 Subcompact Cars\n",
       "Fuel Type                     Premium\n",
       "Combined MPG (FT1)               19.0\n",
       "Name: 1873, dtype: object"
      ]
     },
     "execution_count": 12,
     "metadata": {},
     "output_type": "execute_result"
    }
   ],
   "execution_count": 12
  },
  {
   "metadata": {
    "ExecuteTime": {
     "end_time": "2025-06-30T22:47:12.999439Z",
     "start_time": "2025-06-30T22:47:12.990382Z"
    }
   },
   "cell_type": "code",
   "source": "fuel.loc[1873, 'Combined MPG (FT1)']",
   "id": "4d56f56861a58314",
   "outputs": [
    {
     "data": {
      "text/plain": [
       "np.float64(19.0)"
      ]
     },
     "execution_count": 13,
     "metadata": {},
     "output_type": "execute_result"
    }
   ],
   "execution_count": 13
  },
  {
   "metadata": {
    "ExecuteTime": {
     "end_time": "2025-06-30T22:49:04.224138Z",
     "start_time": "2025-06-30T22:49:04.206566Z"
    }
   },
   "cell_type": "code",
   "source": "fuel['Combined MPG (FT1)'].max()",
   "id": "d5c92fd866e28d78",
   "outputs": [
    {
     "data": {
      "text/plain": [
       "np.float64(112.0)"
      ]
     },
     "execution_count": 15,
     "metadata": {},
     "output_type": "execute_result"
    }
   ],
   "execution_count": 15
  },
  {
   "metadata": {
    "ExecuteTime": {
     "end_time": "2025-06-30T22:50:37.931380Z",
     "start_time": "2025-06-30T22:50:37.921732Z"
    }
   },
   "cell_type": "code",
   "source": "fuel['Combined MPG (FT1)'].idxmax()",
   "id": "d1d47317a34faa61",
   "outputs": [
    {
     "data": {
      "text/plain": [
       "np.int64(31673)"
      ]
     },
     "execution_count": 17,
     "metadata": {},
     "output_type": "execute_result"
    }
   ],
   "execution_count": 17
  },
  {
   "metadata": {
    "ExecuteTime": {
     "end_time": "2025-06-30T22:51:12.740296Z",
     "start_time": "2025-06-30T22:51:12.727465Z"
    }
   },
   "cell_type": "code",
   "source": "fuel.loc[fuel['Combined MPG (FT1)'].idxmax()]",
   "id": "b7d9d56ea51fe253",
   "outputs": [
    {
     "data": {
      "text/plain": [
       "Year                             2012\n",
       "Make                       Mitsubishi\n",
       "Model                          i-MiEV\n",
       "Class                 Subcompact Cars\n",
       "Fuel Type                 Electricity\n",
       "Combined MPG (FT1)              112.0\n",
       "Name: 31673, dtype: object"
      ]
     },
     "execution_count": 18,
     "metadata": {},
     "output_type": "execute_result"
    }
   ],
   "execution_count": 18
  },
  {
   "metadata": {
    "ExecuteTime": {
     "end_time": "2025-06-30T22:52:18.233714Z",
     "start_time": "2025-06-30T22:52:18.216844Z"
    }
   },
   "cell_type": "code",
   "source": [
    "shortFuel = fuel[['Make','Model']]\n",
    "shortFuel.head()\n"
   ],
   "id": "36abd6afd8351368",
   "outputs": [
    {
     "data": {
      "text/plain": [
       "                  Make               Model\n",
       "Vehicle ID                                \n",
       "26587       Alfa Romeo           GT V6 2.5\n",
       "27705       Alfa Romeo           GT V6 2.5\n",
       "26561       Alfa Romeo  Spider Veloce 2000\n",
       "27681       Alfa Romeo  Spider Veloce 2000\n",
       "27550       AM General   DJ Po Vehicle 2WD"
      ],
      "text/html": [
       "<div>\n",
       "<style scoped>\n",
       "    .dataframe tbody tr th:only-of-type {\n",
       "        vertical-align: middle;\n",
       "    }\n",
       "\n",
       "    .dataframe tbody tr th {\n",
       "        vertical-align: top;\n",
       "    }\n",
       "\n",
       "    .dataframe thead th {\n",
       "        text-align: right;\n",
       "    }\n",
       "</style>\n",
       "<table border=\"1\" class=\"dataframe\">\n",
       "  <thead>\n",
       "    <tr style=\"text-align: right;\">\n",
       "      <th></th>\n",
       "      <th>Make</th>\n",
       "      <th>Model</th>\n",
       "    </tr>\n",
       "    <tr>\n",
       "      <th>Vehicle ID</th>\n",
       "      <th></th>\n",
       "      <th></th>\n",
       "    </tr>\n",
       "  </thead>\n",
       "  <tbody>\n",
       "    <tr>\n",
       "      <th>26587</th>\n",
       "      <td>Alfa Romeo</td>\n",
       "      <td>GT V6 2.5</td>\n",
       "    </tr>\n",
       "    <tr>\n",
       "      <th>27705</th>\n",
       "      <td>Alfa Romeo</td>\n",
       "      <td>GT V6 2.5</td>\n",
       "    </tr>\n",
       "    <tr>\n",
       "      <th>26561</th>\n",
       "      <td>Alfa Romeo</td>\n",
       "      <td>Spider Veloce 2000</td>\n",
       "    </tr>\n",
       "    <tr>\n",
       "      <th>27681</th>\n",
       "      <td>Alfa Romeo</td>\n",
       "      <td>Spider Veloce 2000</td>\n",
       "    </tr>\n",
       "    <tr>\n",
       "      <th>27550</th>\n",
       "      <td>AM General</td>\n",
       "      <td>DJ Po Vehicle 2WD</td>\n",
       "    </tr>\n",
       "  </tbody>\n",
       "</table>\n",
       "</div>"
      ]
     },
     "execution_count": 20,
     "metadata": {},
     "output_type": "execute_result"
    }
   ],
   "execution_count": 20
  },
  {
   "metadata": {},
   "cell_type": "code",
   "outputs": [],
   "execution_count": null,
   "source": "",
   "id": "a5f76ea16ea0b2f4"
  }
 ],
 "metadata": {
  "kernelspec": {
   "display_name": "Python 3",
   "language": "python",
   "name": "python3"
  },
  "language_info": {
   "codemirror_mode": {
    "name": "ipython",
    "version": 2
   },
   "file_extension": ".py",
   "mimetype": "text/x-python",
   "name": "python",
   "nbconvert_exporter": "python",
   "pygments_lexer": "ipython2",
   "version": "2.7.6"
  }
 },
 "nbformat": 4,
 "nbformat_minor": 5
}
