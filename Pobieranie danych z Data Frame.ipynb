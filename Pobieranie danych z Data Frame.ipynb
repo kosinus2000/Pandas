{
 "cells": [
  {
   "cell_type": "code",
   "id": "initial_id",
   "metadata": {
    "collapsed": true,
    "ExecuteTime": {
     "end_time": "2025-06-30T14:16:39.636406Z",
     "start_time": "2025-06-30T14:16:39.622795Z"
    }
   },
   "source": [
    "import pandas as pd\n",
    "import numpy as np\n",
    "import matplotlib.pyplot as plt\n",
    "import math"
   ],
   "outputs": [],
   "execution_count": 4
  },
  {
   "metadata": {
    "ExecuteTime": {
     "end_time": "2025-06-30T14:21:02.917317Z",
     "start_time": "2025-06-30T14:21:02.888281Z"
    }
   },
   "cell_type": "code",
   "source": [
    "frame = pd.read_csv(\"C:\\\\Users\\\\huber_15ivafg\\\\Documents\\\\Pandas kurs materiały\\\\course-files\\\\Mcdonalds.csv\")\n",
    "series = pd.read_csv(\"C:\\\\Users\\\\huber_15ivafg\\\\Documents\\\\Pandas kurs materiały\\\\course-files\\\\Mcdonalds.csv\",usecols=[\"Item\",\"Calories\"], index_col='Item').squeeze()"
   ],
   "id": "cdfdcb18ca8e33d9",
   "outputs": [],
   "execution_count": 7
  },
  {
   "metadata": {
    "ExecuteTime": {
     "end_time": "2025-06-30T14:21:14.813927Z",
     "start_time": "2025-06-30T14:21:14.805928Z"
    }
   },
   "cell_type": "code",
   "source": "type(frame)",
   "id": "c0b02a9f2072226d",
   "outputs": [
    {
     "data": {
      "text/plain": [
       "pandas.core.frame.DataFrame"
      ]
     },
     "execution_count": 8,
     "metadata": {},
     "output_type": "execute_result"
    }
   ],
   "execution_count": 8
  },
  {
   "metadata": {
    "ExecuteTime": {
     "end_time": "2025-06-30T14:22:49.699779Z",
     "start_time": "2025-06-30T14:22:49.692252Z"
    }
   },
   "cell_type": "code",
   "source": "type(series)",
   "id": "cc9e33dcf2cc5d63",
   "outputs": [
    {
     "data": {
      "text/plain": [
       "pandas.core.series.Series"
      ]
     },
     "execution_count": 9,
     "metadata": {},
     "output_type": "execute_result"
    }
   ],
   "execution_count": 9
  },
  {
   "metadata": {
    "ExecuteTime": {
     "end_time": "2025-06-30T14:35:51.571708Z",
     "start_time": "2025-06-30T14:35:51.557972Z"
    }
   },
   "cell_type": "code",
   "source": "frame.Calories.mean()",
   "id": "8450cc3d31b246df",
   "outputs": [
    {
     "data": {
      "text/plain": [
       "np.float64(368.2692307692308)"
      ]
     },
     "execution_count": 10,
     "metadata": {},
     "output_type": "execute_result"
    }
   ],
   "execution_count": 10
  },
  {
   "metadata": {
    "ExecuteTime": {
     "end_time": "2025-06-30T14:36:50.745718Z",
     "start_time": "2025-06-30T14:36:50.729159Z"
    }
   },
   "cell_type": "code",
   "source": "frame.Calories.idxmax()",
   "id": "6ed2ca169a3e0705",
   "outputs": [
    {
     "data": {
      "text/plain": [
       "82"
      ]
     },
     "execution_count": 11,
     "metadata": {},
     "output_type": "execute_result"
    }
   ],
   "execution_count": 11
  },
  {
   "metadata": {
    "ExecuteTime": {
     "end_time": "2025-06-30T14:37:19.308206Z",
     "start_time": "2025-06-30T14:37:19.278932Z"
    }
   },
   "cell_type": "code",
   "source": "frame.Item[82]",
   "id": "cce23c6d507c3745",
   "outputs": [
    {
     "data": {
      "text/plain": [
       "'Chicken McNuggets (40 piece)'"
      ]
     },
     "execution_count": 12,
     "metadata": {},
     "output_type": "execute_result"
    }
   ],
   "execution_count": 12
  },
  {
   "metadata": {
    "ExecuteTime": {
     "end_time": "2025-06-30T14:46:34.609179Z",
     "start_time": "2025-06-30T14:46:34.589198Z"
    }
   },
   "cell_type": "code",
   "source": "frame.Item[frame.Calories.idxmax()]",
   "id": "a9c8d8895a97200f",
   "outputs": [
    {
     "data": {
      "text/plain": [
       "'Chicken McNuggets (40 piece)'"
      ]
     },
     "execution_count": 13,
     "metadata": {},
     "output_type": "execute_result"
    }
   ],
   "execution_count": 13
  },
  {
   "metadata": {
    "ExecuteTime": {
     "end_time": "2025-06-30T19:52:54.214460Z",
     "start_time": "2025-06-30T19:52:54.173380Z"
    }
   },
   "cell_type": "code",
   "source": "s  = frame[\"Item\"]",
   "id": "e209ae668e2eb73a",
   "outputs": [],
   "execution_count": 14
  },
  {
   "metadata": {
    "ExecuteTime": {
     "end_time": "2025-06-30T19:53:27.714153Z",
     "start_time": "2025-06-30T19:53:27.701119Z"
    }
   },
   "cell_type": "code",
   "source": "type(s)",
   "id": "400d3c240f9102b2",
   "outputs": [
    {
     "data": {
      "text/plain": [
       "pandas.core.series.Series"
      ]
     },
     "execution_count": 16,
     "metadata": {},
     "output_type": "execute_result"
    }
   ],
   "execution_count": 16
  },
  {
   "metadata": {
    "ExecuteTime": {
     "end_time": "2025-06-30T19:53:51.816328Z",
     "start_time": "2025-06-30T19:53:51.801748Z"
    }
   },
   "cell_type": "code",
   "source": "s.head()",
   "id": "52abe9be51924cd8",
   "outputs": [
    {
     "data": {
      "text/plain": [
       "0                        Egg McMuffin\n",
       "1                   Egg White Delight\n",
       "2                    Sausage McMuffin\n",
       "3           Sausage McMuffin with Egg\n",
       "4    Sausage McMuffin with Egg Whites\n",
       "Name: Item, dtype: object"
      ]
     },
     "execution_count": 18,
     "metadata": {},
     "output_type": "execute_result"
    }
   ],
   "execution_count": 18
  },
  {
   "metadata": {
    "ExecuteTime": {
     "end_time": "2025-06-30T21:25:25.408764Z",
     "start_time": "2025-06-30T21:25:25.383031Z"
    }
   },
   "cell_type": "code",
   "source": "frame.loc[242]",
   "id": "d3c87cd46fcc6a95",
   "outputs": [
    {
     "data": {
      "text/plain": [
       "Category                             Smoothies & Shakes\n",
       "Item                             Vanilla Shake (Medium)\n",
       "Serving Size                               16 fl oz cup\n",
       "Calories                                            660\n",
       "Calories from Fat                                   170\n",
       "TotalFat                                           19.0\n",
       "Total Fat (% Daily Value)                            29\n",
       "Saturated Fat                                      12.0\n",
       "Saturated Fat (% Daily Value)                        61\n",
       "Trans Fat                                           1.0\n",
       "Cholesterol                                          75\n",
       "Cholesterol (% Daily Value)                          24\n",
       "Sodium                                              200\n",
       "Sodium (% Daily Value)                                9\n",
       "Carbohydrates                                       109\n",
       "Carbohydrates (% Daily Value)                        36\n",
       "Dietary Fiber                                         0\n",
       "Dietary Fiber (% Daily Value)                         0\n",
       "Sugars                                               81\n",
       "Protein                                              14\n",
       "Vitamin A (% Daily Value)                            25\n",
       "Vitamin C (% Daily Value)                             0\n",
       "Calcium (% Daily Value)                              50\n",
       "Iron (% Daily Value)                                  0\n",
       "Name: 242, dtype: object"
      ]
     },
     "execution_count": 20,
     "metadata": {},
     "output_type": "execute_result"
    }
   ],
   "execution_count": 20
  },
  {
   "metadata": {
    "ExecuteTime": {
     "end_time": "2025-06-30T22:05:37.426750Z",
     "start_time": "2025-06-30T22:05:37.407127Z"
    }
   },
   "cell_type": "code",
   "source": "frame[['Calories', 'Sugars','TotalFat']]",
   "id": "4ceb71f656e800d7",
   "outputs": [
    {
     "data": {
      "text/plain": [
       "     Calories  Sugars  TotalFat\n",
       "0         300       3      13.0\n",
       "1         250       3       8.0\n",
       "2         370       2      23.0\n",
       "3         450       2      28.0\n",
       "4         400       2      23.0\n",
       "..        ...     ...       ...\n",
       "255       510      64      17.0\n",
       "256       690      85      23.0\n",
       "257       340      43      11.0\n",
       "258       810     103      32.0\n",
       "259       410      51      16.0\n",
       "\n",
       "[260 rows x 3 columns]"
      ],
      "text/html": [
       "<div>\n",
       "<style scoped>\n",
       "    .dataframe tbody tr th:only-of-type {\n",
       "        vertical-align: middle;\n",
       "    }\n",
       "\n",
       "    .dataframe tbody tr th {\n",
       "        vertical-align: top;\n",
       "    }\n",
       "\n",
       "    .dataframe thead th {\n",
       "        text-align: right;\n",
       "    }\n",
       "</style>\n",
       "<table border=\"1\" class=\"dataframe\">\n",
       "  <thead>\n",
       "    <tr style=\"text-align: right;\">\n",
       "      <th></th>\n",
       "      <th>Calories</th>\n",
       "      <th>Sugars</th>\n",
       "      <th>TotalFat</th>\n",
       "    </tr>\n",
       "  </thead>\n",
       "  <tbody>\n",
       "    <tr>\n",
       "      <th>0</th>\n",
       "      <td>300</td>\n",
       "      <td>3</td>\n",
       "      <td>13.0</td>\n",
       "    </tr>\n",
       "    <tr>\n",
       "      <th>1</th>\n",
       "      <td>250</td>\n",
       "      <td>3</td>\n",
       "      <td>8.0</td>\n",
       "    </tr>\n",
       "    <tr>\n",
       "      <th>2</th>\n",
       "      <td>370</td>\n",
       "      <td>2</td>\n",
       "      <td>23.0</td>\n",
       "    </tr>\n",
       "    <tr>\n",
       "      <th>3</th>\n",
       "      <td>450</td>\n",
       "      <td>2</td>\n",
       "      <td>28.0</td>\n",
       "    </tr>\n",
       "    <tr>\n",
       "      <th>4</th>\n",
       "      <td>400</td>\n",
       "      <td>2</td>\n",
       "      <td>23.0</td>\n",
       "    </tr>\n",
       "    <tr>\n",
       "      <th>...</th>\n",
       "      <td>...</td>\n",
       "      <td>...</td>\n",
       "      <td>...</td>\n",
       "    </tr>\n",
       "    <tr>\n",
       "      <th>255</th>\n",
       "      <td>510</td>\n",
       "      <td>64</td>\n",
       "      <td>17.0</td>\n",
       "    </tr>\n",
       "    <tr>\n",
       "      <th>256</th>\n",
       "      <td>690</td>\n",
       "      <td>85</td>\n",
       "      <td>23.0</td>\n",
       "    </tr>\n",
       "    <tr>\n",
       "      <th>257</th>\n",
       "      <td>340</td>\n",
       "      <td>43</td>\n",
       "      <td>11.0</td>\n",
       "    </tr>\n",
       "    <tr>\n",
       "      <th>258</th>\n",
       "      <td>810</td>\n",
       "      <td>103</td>\n",
       "      <td>32.0</td>\n",
       "    </tr>\n",
       "    <tr>\n",
       "      <th>259</th>\n",
       "      <td>410</td>\n",
       "      <td>51</td>\n",
       "      <td>16.0</td>\n",
       "    </tr>\n",
       "  </tbody>\n",
       "</table>\n",
       "<p>260 rows × 3 columns</p>\n",
       "</div>"
      ]
     },
     "execution_count": 22,
     "metadata": {},
     "output_type": "execute_result"
    }
   ],
   "execution_count": 22
  },
  {
   "metadata": {},
   "cell_type": "code",
   "outputs": [],
   "execution_count": null,
   "source": "",
   "id": "cbbfae1a51892ad"
  }
 ],
 "metadata": {
  "kernelspec": {
   "display_name": "Python 3",
   "language": "python",
   "name": "python3"
  },
  "language_info": {
   "codemirror_mode": {
    "name": "ipython",
    "version": 2
   },
   "file_extension": ".py",
   "mimetype": "text/x-python",
   "name": "python",
   "nbconvert_exporter": "python",
   "pygments_lexer": "ipython2",
   "version": "2.7.6"
  }
 },
 "nbformat": 4,
 "nbformat_minor": 5
}
